{
 "cells": [
  {
   "cell_type": "code",
   "execution_count": null,
   "id": "de34214e",
   "metadata": {},
   "outputs": [],
   "source": [
    "import gym\n",
    "import matplotlib\n",
    "import matplotlib.pyplot as plt\n",
    "import numpy as np\n",
    "import sys\n",
    "import torch\n",
    "from torch import nn as nn\n",
    "from torch.optim import Adam\n",
    "from torch.nn import functional as F\n",
    "from torch.distributions import Categorical"
   ]
  },
  {
   "cell_type": "code",
   "execution_count": null,
   "id": "5a84dfb5",
   "metadata": {},
   "outputs": [],
   "source": [
    "env = gym.make('CartPole-v0')"
   ]
  },
  {
   "cell_type": "code",
   "execution_count": null,
   "id": "e606ea21",
   "metadata": {},
   "outputs": [],
   "source": [
    "input_dim = env.observation_space.shape[0]\n",
    "output_dim = env.action_space.n"
   ]
  },
  {
   "cell_type": "code",
   "execution_count": null,
   "id": "7f961153",
   "metadata": {},
   "outputs": [],
   "source": [
    "class ActorCritic(nn.Module):\n",
    "    def __init__(self,input_dim,hidden,output_dim):\n",
    "        super().__init__()\n",
    "        \n",
    "        self.fc1 = nn.Linear(input_dim,hidden)\n",
    "        self.logits = nn.Linear(hidden,output_dim)\n",
    "        self.value = nn.Linear(hidden,1)\n",
    "        \n",
    "    def forward(self,state):\n",
    "        \n",
    "        x = self.fc1(state)\n",
    "        x = self.relu(x)\n",
    "        logits = self.logits(x)\n",
    "        value = self.value(x)\n",
    "        return logits,value\n",
    "        \n",
    "    \n",
    "    def predict(self,state):\n",
    "        logits,_ = self.forward(state)\n",
    "        pi = Categorical(logits = logits)\n",
    "        a = pi.sample()\n",
    "        return a.item()"
   ]
  },
  {
   "cell_type": "code",
   "execution_count": null,
   "id": "40ba6cc7",
   "metadata": {},
   "outputs": [],
   "source": [
    "gamma = 0.95"
   ]
  },
  {
   "cell_type": "code",
   "execution_count": null,
   "id": "803aa683",
   "metadata": {},
   "outputs": [],
   "source": [
    "model = ActorCritic(input_dim,64,output_dim)"
   ]
  },
  {
   "cell_type": "code",
   "execution_count": null,
   "id": "b84275cc",
   "metadata": {},
   "outputs": [],
   "source": [
    "optimizer = Adam(actorcritic.parameters(),lr = 0.001)"
   ]
  },
  {
   "cell_type": "code",
   "execution_count": null,
   "id": "6f74ae0d",
   "metadata": {},
   "outputs": [],
   "source": [
    "Episodes = 1000\n",
    "beta = 0\n",
    "zeta = 0"
   ]
  },
  {
   "cell_type": "code",
   "execution_count": null,
   "id": "9e5dccb5",
   "metadata": {},
   "outputs": [],
   "source": [
    "all_rewards = []\n",
    "for episode in range(Episodes):\n",
    "    done = False\n",
    "    \n",
    "    s = env.reset()\n",
    "    \n",
    "    logp = []\n",
    "    states = []\n",
    "    actions = []\n",
    "    rewards = []\n",
    "    s_prime = []\n",
    "    \n",
    "    while not done:\n",
    "        states.append(s)\n",
    "        logits = model(torch.FloatTensor(s))\n",
    "        pi = Categorical(logits = logits)\n",
    "        action = pi.sample()\n",
    "        log_prob = pi.log_prob(action)\n",
    "        action = action.item()\n",
    "        \n",
    "        s_prime,reward,done,_ = env.step(action)\n",
    "        logp.append(log_prob)\n",
    "        rewards.append(reward)\n",
    "        \n",
    "        s = s_prime\n",
    "        if episode % 100 == 0:\n",
    "            env.render()\n",
    "    \n",
    "    all_rewards.append(np.sum(rewards))\n",
    "    if episode & 100 == 0:\n",
    "\n",
    "        print(f'Episode {episode} Score: {np.sum(rewards)}')\n",
    "        \n",
    "    discounted_rewards = []        \n",
    "    for t in range(len(rewards)):\n",
    "        G_t = 0\n",
    "        pw = 0\n",
    "        \n",
    "        for r in rewards[t:]:\n",
    "            G_t = G_t + gamma**pw * r\n",
    "            pw += 1\n",
    "            \n",
    "        discounted_rewards.append(G_t) \n",
    "        \n",
    "    td_deltas = []\n",
    "    for t in range(len(rewards)):\n",
    "#             _,v_prime = network(torch.FloatTensor(episode_states[t+1]))\n",
    "            _,v = model(torch.FloatTensor(states[t]))\n",
    "    \n",
    "            td_deltas.append(discounted_rewards[t] - v)\n",
    "        \n",
    "    discounted_rewards = torch.FloatTensor(discounted_rewards)\n",
    "    \n",
    "    loss = - torch.stack(logp)@discounted_rewards\n",
    "    \n",
    "    optimizer.zero_grad()\n",
    "    \n",
    "    loss.backward()\n",
    "    \n",
    "    optimizer.step()\n",
    "        \n",
    "        "
   ]
  },
  {
   "cell_type": "code",
   "execution_count": null,
   "id": "c258d49f",
   "metadata": {},
   "outputs": [],
   "source": []
  }
 ],
 "metadata": {
  "kernelspec": {
   "display_name": "Python 3 (ipykernel)",
   "language": "python",
   "name": "python3"
  },
  "language_info": {
   "codemirror_mode": {
    "name": "ipython",
    "version": 3
   },
   "file_extension": ".py",
   "mimetype": "text/x-python",
   "name": "python",
   "nbconvert_exporter": "python",
   "pygments_lexer": "ipython3",
   "version": "3.9.12"
  },
  "latex_envs": {
   "LaTeX_envs_menu_present": true,
   "autoclose": false,
   "autocomplete": true,
   "bibliofile": "biblio.bib",
   "cite_by": "apalike",
   "current_citInitial": 1,
   "eqLabelWithNumbers": true,
   "eqNumInitial": 1,
   "hotkeys": {
    "equation": "Ctrl-E",
    "itemize": "Ctrl-I"
   },
   "labels_anchors": false,
   "latex_user_defs": false,
   "report_style_numbering": false,
   "user_envs_cfg": false
  },
  "toc": {
   "base_numbering": 1,
   "nav_menu": {},
   "number_sections": true,
   "sideBar": true,
   "skip_h1_title": false,
   "title_cell": "Table of Contents",
   "title_sidebar": "Contents",
   "toc_cell": false,
   "toc_position": {},
   "toc_section_display": true,
   "toc_window_display": false
  }
 },
 "nbformat": 4,
 "nbformat_minor": 5
}
