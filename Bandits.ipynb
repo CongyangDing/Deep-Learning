{
 "cells": [
  {
   "cell_type": "code",
   "execution_count": 1,
   "metadata": {},
   "outputs": [],
   "source": [
    "import numpy as np\n",
    "import matplotlib.pyplot as plt\n",
    "from scipy.stats import norm"
   ]
  },
  {
   "cell_type": "code",
   "execution_count": 2,
   "metadata": {},
   "outputs": [],
   "source": [
    "actions = [0, 1, 2, 3, 4, 5, 6, 7, 8, 9]"
   ]
  },
  {
   "cell_type": "code",
   "execution_count": 3,
   "metadata": {},
   "outputs": [],
   "source": [
    "rng = np.random.default_rng(4321)"
   ]
  },
  {
   "cell_type": "code",
   "execution_count": 4,
   "metadata": {},
   "outputs": [],
   "source": [
    "avg_payouts = rng.normal(0, 0.5, size=10)\n",
    "payout_dist = [norm(loc = avg_payouts[a], scale=1) for a in actions]"
   ]
  },
  {
   "cell_type": "code",
   "execution_count": 5,
   "metadata": {},
   "outputs": [
    {
     "data": {
      "text/plain": [
       "array([-0.0152053 ,  0.2813863 , -0.11279354,  0.63802206,  0.42720597,\n",
       "       -0.70409973, -0.00247802, -0.02643345,  0.06019037,  0.29441983])"
      ]
     },
     "execution_count": 5,
     "metadata": {},
     "output_type": "execute_result"
    }
   ],
   "source": [
    "avg_payouts"
   ]
  },
  {
   "cell_type": "code",
   "execution_count": 6,
   "metadata": {},
   "outputs": [
    {
     "data": {
      "text/plain": [
       "3"
      ]
     },
     "execution_count": 6,
     "metadata": {},
     "output_type": "execute_result"
    }
   ],
   "source": [
    "av = np.argmax(avg_payouts)\n",
    "av"
   ]
  },
  {
   "cell_type": "code",
   "execution_count": 7,
   "metadata": {},
   "outputs": [
    {
     "data": {
      "text/plain": [
       "-1.1437979454314156"
      ]
     },
     "execution_count": 7,
     "metadata": {},
     "output_type": "execute_result"
    }
   ],
   "source": [
    "payout_dist[8].rvs()"
   ]
  },
  {
   "cell_type": "code",
   "execution_count": 8,
   "metadata": {},
   "outputs": [],
   "source": [
    "payout = []\n",
    "for k in range(10):\n",
    "    reward =  payout_dist[k].rvs()\n",
    "    payout.append(reward)"
   ]
  },
  {
   "cell_type": "code",
   "execution_count": 9,
   "metadata": {},
   "outputs": [
    {
     "data": {
      "text/plain": [
       "[0.8928232737194448,\n",
       " 0.07807936333935533,\n",
       " 0.18477594464887234,\n",
       " 1.1737090397850258,\n",
       " -1.3696301999282443,\n",
       " -2.3167418678961256,\n",
       " 0.8264057620353925,\n",
       " -2.266447002150784,\n",
       " -0.8512108915750428,\n",
       " 0.2954030856185793]"
      ]
     },
     "execution_count": 9,
     "metadata": {},
     "output_type": "execute_result"
    }
   ],
   "source": [
    "payout"
   ]
  },
  {
   "cell_type": "code",
   "execution_count": 10,
   "metadata": {},
   "outputs": [
    {
     "data": {
      "text/plain": [
       "3"
      ]
     },
     "execution_count": 10,
     "metadata": {},
     "output_type": "execute_result"
    }
   ],
   "source": [
    "top_machine = np.argmax(payout)\n",
    "top_machine"
   ]
  },
  {
   "cell_type": "code",
   "execution_count": 11,
   "metadata": {},
   "outputs": [],
   "source": [
    "def win_loss(a):\n",
    "    return payout_dist[a].rvs()"
   ]
  },
  {
   "cell_type": "code",
   "execution_count": 12,
   "metadata": {},
   "outputs": [
    {
     "data": {
      "text/plain": [
       "-1.4123023773037442"
      ]
     },
     "execution_count": 12,
     "metadata": {},
     "output_type": "execute_result"
    }
   ],
   "source": [
    "win_loss(3)"
   ]
  },
  {
   "cell_type": "markdown",
   "metadata": {},
   "source": [
    "## Greedy"
   ]
  },
  {
   "cell_type": "code",
   "execution_count": 13,
   "metadata": {},
   "outputs": [
    {
     "name": "stdout",
     "output_type": "stream",
     "text": [
      "9\n"
     ]
    }
   ],
   "source": [
    "\n",
    "a_init = np.random.choice(actions) #random machine to start\n",
    "print(a_init)\n",
    "R = np.zeros(10)    #initialize rewards to 0s\n",
    "action_taken = [a_init]\n",
    "num_actions = np.zeros(10) #initialize the number of times each action has been played\n",
    "Q = np.zeros(10) #initialize action-rewards to 0\n",
    "num_actions[a_init] += 1 #we play action a_init\n",
    "R[a_init] += win_loss(a_init) #this is the first reward\n",
    "total_reward = R[a_init]\n",
    "Q[a_init] = R[a_init]\n",
    "avg_reward_greedy = [R[a_init]]\n",
    "for t in range(1,10000):#play 10000 times\n",
    "    a = np.random.choice(np.where(Q == np.max(Q))[0]) #always choose the action with the highest Q value\n",
    "    reward = win_loss(a)\n",
    "    R[a] += reward \n",
    "    num_actions[a] += 1\n",
    "    action_taken.append(a)\n",
    "    Q[a] = R[a]/num_actions[a]  #average Q-value\n",
    "    total_reward+=reward\n",
    "    avg_reward_greedy.append(total_reward/t) #the average reward per play\n",
    "\n",
    "        \n",
    "    "
   ]
  },
  {
   "cell_type": "code",
   "execution_count": 14,
   "metadata": {},
   "outputs": [
    {
     "data": {
      "text/plain": [
       "array([ 0.        , -0.07595532, -0.20494157, -0.49014474,  0.4145482 ,\n",
       "       -1.45447812,  0.        ,  0.        , -0.04480941, -0.01181202])"
      ]
     },
     "execution_count": 14,
     "metadata": {},
     "output_type": "execute_result"
    }
   ],
   "source": [
    "Q"
   ]
  },
  {
   "cell_type": "code",
   "execution_count": 15,
   "metadata": {},
   "outputs": [
    {
     "data": {
      "text/plain": [
       "array([-0.0152053 ,  0.2813863 , -0.11279354,  0.63802206,  0.42720597,\n",
       "       -0.70409973, -0.00247802, -0.02643345,  0.06019037,  0.29441983])"
      ]
     },
     "execution_count": 15,
     "metadata": {},
     "output_type": "execute_result"
    }
   ],
   "source": [
    "avg_payouts"
   ]
  },
  {
   "cell_type": "code",
   "execution_count": 16,
   "metadata": {},
   "outputs": [
    {
     "data": {
      "text/plain": [
       "array([0.000e+00, 1.000e+01, 4.000e+00, 1.000e+00, 9.977e+03, 1.000e+00,\n",
       "       0.000e+00, 0.000e+00, 6.000e+00, 1.000e+00])"
      ]
     },
     "execution_count": 16,
     "metadata": {},
     "output_type": "execute_result"
    }
   ],
   "source": [
    "num_actions"
   ]
  },
  {
   "cell_type": "code",
   "execution_count": null,
   "metadata": {},
   "outputs": [],
   "source": []
  },
  {
   "cell_type": "code",
   "execution_count": 17,
   "metadata": {},
   "outputs": [
    {
     "data": {
      "text/plain": [
       "<BarContainer object of 10 artists>"
      ]
     },
     "execution_count": 17,
     "metadata": {},
     "output_type": "execute_result"
    },
    {
     "data": {
      "image/png": "[encoded data removed]",
      "text/plain": [
       "<Figure size 432x288 with 1 Axes>"
      ]
     },
     "metadata": {
      "needs_background": "light"
     },
     "output_type": "display_data"
    }
   ],
   "source": [
    "plt.bar(list(range(10)),height=[len(np.where(np.array(action_taken[:40]) == i)[0]) for i in range(10)])"
   ]
  },
  {
   "cell_type": "code",
   "execution_count": 18,
   "metadata": {},
   "outputs": [
    {
     "data": {
      "image/png": "[encoded data removed]",
      "text/plain": [
       "<Figure size 432x288 with 1 Axes>"
      ]
     },
     "metadata": {
      "needs_background": "light"
     },
     "output_type": "display_data"
    }
   ],
   "source": [
    "plt.plot(avg_reward_greedy);"
   ]
  },
  {
   "cell_type": "markdown",
   "metadata": {},
   "source": [
    "## $\\varepsilon$-Greedy"
   ]
  },
  {
   "cell_type": "code",
   "execution_count": 19,
   "metadata": {},
   "outputs": [],
   "source": [
    "eps = 0.1 #probability of exploring a random action\n",
    "a_init = rng.choice(actions) #random machine to start\n",
    "action_taken = [a_init]\n",
    "R = np.zeros(10)    #initialize rewards to 0s\n",
    "num_actions = np.zeros(10) #initialize the number of times each action has been played\n",
    "Q = np.zeros(10) #initialize action-rewards to 0\n",
    "num_actions[a_init] += 1\n",
    "R[a_init] += win_loss(a_init)\n",
    "total_reward_r = R[a_init]\n",
    "avg_reward_eps_greedy = [R[a_init]]\n",
    "for t in range(1,10000):\n",
    "    p = rng.random()\n",
    "    if p < eps:\n",
    "        a = rng.choice(actions) #choose a random action\n",
    "    else:\n",
    "        a = rng.choice(np.where(Q == np.max(Q))[0])  #greedy choice\n",
    "    reward = win_loss(a)\n",
    "    R[a] += reward\n",
    "    total_reward_r+=reward\n",
    "    action_taken.append(a)\n",
    "    num_actions[a] += 1\n",
    "    Q[a] = R[a]/num_actions[a]\n",
    "    avg_reward_eps_greedy.append(total_reward_r/t)\n",
    "\n"
   ]
  },
  {
   "cell_type": "code",
   "execution_count": 20,
   "metadata": {},
   "outputs": [
    {
     "data": {
      "text/plain": [
       "array([  73.,  104.,  126., 9075.,  118.,  100.,  108.,  109.,   90.,\n",
       "         97.])"
      ]
     },
     "execution_count": 20,
     "metadata": {},
     "output_type": "execute_result"
    }
   ],
   "source": [
    "num_actions"
   ]
  },
  {
   "cell_type": "code",
   "execution_count": 21,
   "metadata": {},
   "outputs": [
    {
     "data": {
      "text/plain": [
       "array([-0.08187867,  0.27560403, -0.08536237,  0.65390621,  0.40618524,\n",
       "       -0.49080767,  0.0247153 , -0.10634323,  0.05427578,  0.2295243 ])"
      ]
     },
     "execution_count": 21,
     "metadata": {},
     "output_type": "execute_result"
    }
   ],
   "source": [
    "Q"
   ]
  },
  {
   "cell_type": "code",
   "execution_count": 22,
   "metadata": {},
   "outputs": [
    {
     "data": {
      "text/plain": [
       "array([-0.0152053 ,  0.2813863 , -0.11279354,  0.63802206,  0.42720597,\n",
       "       -0.70409973, -0.00247802, -0.02643345,  0.06019037,  0.29441983])"
      ]
     },
     "execution_count": 22,
     "metadata": {},
     "output_type": "execute_result"
    }
   ],
   "source": [
    "avg_payouts"
   ]
  },
  {
   "cell_type": "code",
   "execution_count": 23,
   "metadata": {},
   "outputs": [
    {
     "data": {
      "image/png": "[encoded data removed]",
      "text/plain": [
       "<Figure size 432x288 with 1 Axes>"
      ]
     },
     "metadata": {
      "needs_background": "light"
     },
     "output_type": "display_data"
    }
   ],
   "source": [
    "plt.bar(list(range(10)),height=num_actions);"
   ]
  },
  {
   "cell_type": "code",
   "execution_count": 24,
   "metadata": {},
   "outputs": [
    {
     "data": {
      "text/plain": [
       "<BarContainer object of 10 artists>"
      ]
     },
     "execution_count": 24,
     "metadata": {},
     "output_type": "execute_result"
    },
    {
     "data": {
      "image/png": "[encoded data removed]",
      "text/plain": [
       "<Figure size 432x288 with 1 Axes>"
      ]
     },
     "metadata": {
      "needs_background": "light"
     },
     "output_type": "display_data"
    }
   ],
   "source": [
    "plt.bar(list(range(10)),height=[len(np.where(np.array(action_taken[:15000]) == i)[0]) for i in range(10)])"
   ]
  },
  {
   "cell_type": "code",
   "execution_count": 25,
   "metadata": {},
   "outputs": [
    {
     "data": {
      "image/png": "[encoded data removed]",
      "text/plain": [
       "<Figure size 432x288 with 1 Axes>"
      ]
     },
     "metadata": {
      "needs_background": "light"
     },
     "output_type": "display_data"
    }
   ],
   "source": [
    "plt.plot(avg_reward_eps_greedy);"
   ]
  },
  {
   "cell_type": "markdown",
   "metadata": {},
   "source": [
    "## UCB-Greedy"
   ]
  },
  {
   "cell_type": "code",
   "execution_count": null,
   "metadata": {},
   "outputs": [],
   "source": [
    "eps = 0.1 #probability of exploring a random action\n",
    "a_init = rng.choice(actions) #random machine to start\n",
    "print(a_init)\n",
    "action_taken = [a_init]\n",
    "R = np.zeros(10)    #initialize rewards to 0s\n",
    "num_actions = np.zeros(10) #initialize the number of times each action has been played\n",
    "Q = np.zeros(10) #initialize action-rewards to 0\n",
    "num_actions[a_init] += 1\n",
    "R[a_init] += win_loss(a_init)\n",
    "total_reward_ucb = [R[a_init]]\n",
    "avg_reward_ucb = []\n",
    "c = 3\n",
    "\n",
    "for t in range(1,10000):\n",
    "\n",
    "    p = rng.random()\n",
    "    if p < eps:\n",
    "        increments = np.array([c*np.sqrt(np.log(t)/num_actions[a])\\\n",
    "                               if (num_actions[a]> 0)  else 0 for a in actions]) \n",
    "                            \n",
    "        M = Q + increments\n",
    "        a = rng.choice(np.where(M == np.max(M))[0])          \n",
    "    else:\n",
    "        a = rng.choice(np.where(Q == np.max(Q))[0])   #greedy choice\n",
    "    reward =  win_loss(a)   \n",
    "    R[a] += reward\n",
    "    total_reward_ucb += reward\n",
    "    action_taken.append(a)\n",
    "    num_actions[a] += 1\n",
    "    Q[a] = R[a]/num_actions[a]\n",
    "    avg_reward_ucb.append(total_reward_ucb/t)\n"
   ]
  },
  {
   "cell_type": "code",
   "execution_count": null,
   "metadata": {},
   "outputs": [],
   "source": [
    "Q"
   ]
  },
  {
   "cell_type": "code",
   "execution_count": null,
   "metadata": {},
   "outputs": [],
   "source": [
    "avg_payouts"
   ]
  },
  {
   "cell_type": "code",
   "execution_count": null,
   "metadata": {},
   "outputs": [],
   "source": [
    "plt.bar(list(range(10)),height=num_actions);"
   ]
  },
  {
   "cell_type": "markdown",
   "metadata": {},
   "source": [
    "## Policy Gradient"
   ]
  },
  {
   "cell_type": "code",
   "execution_count": 26,
   "metadata": {},
   "outputs": [],
   "source": [
    "def softmax(x:np.array):\n",
    "    denominator = np.exp(x).sum()\n",
    "    return np.exp(x)/denominator"
   ]
  },
  {
   "cell_type": "code",
   "execution_count": 35,
   "metadata": {},
   "outputs": [],
   "source": [
    "def indicator(a,b):\n",
    "      return (1 if a == b else 0)\n",
    "    \n",
    "Q = np.zeros(10)\n",
    "z = np.zeros(10)\n",
    "action_taken = []\n",
    "num_actions = np.zeros(10)\n",
    "R = np.zeros(10)\n",
    "probs=[]\n",
    "total_reward = 0\n",
    "avg_reward_pol_grad=[]\n",
    "for t in range(1,10000):\n",
    "    pi = softmax(z)\n",
    "    probs.append(pi)\n",
    "    a = rng.choice(actions,p=pi)\n",
    "    action_taken.append(a)\n",
    "    reward = win_loss(a)\n",
    "    R[a] += reward\n",
    "    num_actions[a] += 1\n",
    "    Q[a] = R[a]/num_actions[a]\n",
    "    total_reward += reward\n",
    "    for b in actions:\n",
    "        z[b] = z[b] + 0.1*(indicator(a,b)-pi[a])*(reward - total_reward/t)\n",
    "        \n",
    "    avg_reward_pol_grad.append(total_reward/t)\n",
    "    "
   ]
  },
  {
   "cell_type": "code",
   "execution_count": 36,
   "metadata": {},
   "outputs": [
    {
     "data": {
      "text/plain": [
       "array([ 0.17726928,  0.43028368, -0.00905768,  0.63146677,  0.17854959,\n",
       "       -0.88294946, -0.3257733 , -0.22765736,  0.328825  ,  0.36247012])"
      ]
     },
     "execution_count": 36,
     "metadata": {},
     "output_type": "execute_result"
    }
   ],
   "source": [
    "Q"
   ]
  },
  {
   "cell_type": "code",
   "execution_count": null,
   "metadata": {},
   "outputs": [],
   "source": []
  },
  {
   "cell_type": "code",
   "execution_count": 37,
   "metadata": {},
   "outputs": [
    {
     "data": {
      "text/plain": [
       "array([-0.0152053 ,  0.2813863 , -0.11279354,  0.63802206,  0.42720597,\n",
       "       -0.70409973, -0.00247802, -0.02643345,  0.06019037,  0.29441983])"
      ]
     },
     "execution_count": 37,
     "metadata": {},
     "output_type": "execute_result"
    }
   ],
   "source": [
    "avg_payouts"
   ]
  },
  {
   "cell_type": "code",
   "execution_count": 38,
   "metadata": {},
   "outputs": [
    {
     "data": {
      "text/plain": [
       "array([-22.31805426, -21.80916481, -22.76446896,   2.50067227,\n",
       "       -22.38444286, -23.47979047, -22.9166163 , -22.84228021,\n",
       "       -21.97219899, -21.88802728])"
      ]
     },
     "execution_count": 38,
     "metadata": {},
     "output_type": "execute_result"
    }
   ],
   "source": [
    "z"
   ]
  },
  {
   "cell_type": "code",
   "execution_count": 39,
   "metadata": {},
   "outputs": [
    {
     "data": {
      "image/png": "[encoded data removed]",
      "text/plain": [
       "<Figure size 432x288 with 1 Axes>"
      ]
     },
     "metadata": {
      "needs_background": "light"
     },
     "output_type": "display_data"
    }
   ],
   "source": [
    "plt.bar(list(range(10)),height=probs[200]);"
   ]
  },
  {
   "cell_type": "code",
   "execution_count": 40,
   "metadata": {},
   "outputs": [
    {
     "data": {
      "text/plain": [
       "<BarContainer object of 10 artists>"
      ]
     },
     "execution_count": 40,
     "metadata": {},
     "output_type": "execute_result"
    },
    {
     "data": {
      "image/png": "[encoded data removed]",
      "text/plain": [
       "<Figure size 432x288 with 1 Axes>"
      ]
     },
     "metadata": {
      "needs_background": "light"
     },
     "output_type": "display_data"
    }
   ],
   "source": [
    "plt.bar(list(range(10)),height=[len(np.where(np.array(action_taken[:100]) == i)[0]) for i in range(10)])"
   ]
  },
  {
   "cell_type": "code",
   "execution_count": 41,
   "metadata": {},
   "outputs": [
    {
     "data": {
      "image/png": "[encoded data removed]",
      "text/plain": [
       "<Figure size 432x288 with 1 Axes>"
      ]
     },
     "metadata": {
      "needs_background": "light"
     },
     "output_type": "display_data"
    }
   ],
   "source": [
    "plt.plot(avg_reward_pol_grad);"
   ]
  },
  {
   "cell_type": "code",
   "execution_count": 42,
   "metadata": {},
   "outputs": [
    {
     "data": {
      "text/plain": [
       "array([0.00597005, 0.0116837 , 0.00493449, 0.94115928, 0.00667186,\n",
       "       0.00223123, 0.00391856, 0.00422095, 0.01007586, 0.00913402])"
      ]
     },
     "execution_count": 42,
     "metadata": {},
     "output_type": "execute_result"
    }
   ],
   "source": [
    "probs[300]"
   ]
  },
  {
   "cell_type": "code",
   "execution_count": 43,
   "metadata": {
    "scrolled": true
   },
   "outputs": [
    {
     "data": {
      "image/png": "[encoded data removed]",
      "text/plain": [
       "<Figure size 432x288 with 1 Axes>"
      ]
     },
     "metadata": {
      "needs_background": "light"
     },
     "output_type": "display_data"
    }
   ],
   "source": [
    "# plt.plot(avg_reward_ucb[100:],label = 'ucb');\n",
    "plt.plot(avg_reward_eps_greedy[200:],label = 'eps-greedy');\n",
    "plt.plot(avg_reward_pol_grad[200:],label = 'policy_gradient');\n",
    "plt.plot(avg_reward_greedy[200:],label='greedy');\n",
    "plt.legend();"
   ]
  },
  {
   "cell_type": "code",
   "execution_count": null,
   "metadata": {},
   "outputs": [],
   "source": []
  }
 ],
 "metadata": {
  "kernelspec": {
   "display_name": "Python 3 (ipykernel)",
   "language": "python",
   "name": "python3"
  },
  "language_info": {
   "codemirror_mode": {
    "name": "ipython",
    "version": 3
   },
   "file_extension": ".py",
   "mimetype": "text/x-python",
   "name": "python",
   "nbconvert_exporter": "python",
   "pygments_lexer": "ipython3",
   "version": "3.9.12"
  },
  "latex_envs": {
   "LaTeX_envs_menu_present": true,
   "autoclose": false,
   "autocomplete": true,
   "bibliofile": "biblio.bib",
   "cite_by": "apalike",
   "current_citInitial": 1,
   "eqLabelWithNumbers": true,
   "eqNumInitial": 1,
   "hotkeys": {
    "equation": "Ctrl-E",
    "itemize": "Ctrl-I"
   },
   "labels_anchors": false,
   "latex_user_defs": false,
   "report_style_numbering": false,
   "user_envs_cfg": false
  },
  "toc": {
   "base_numbering": 1,
   "nav_menu": {},
   "number_sections": true,
   "sideBar": true,
   "skip_h1_title": false,
   "title_cell": "Table of Contents",
   "title_sidebar": "Contents",
   "toc_cell": false,
   "toc_position": {},
   "toc_section_display": true,
   "toc_window_display": false
  }
 },
 "nbformat": 4,
 "nbformat_minor": 4
}
