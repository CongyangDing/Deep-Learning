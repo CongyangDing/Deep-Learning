{
 "cells": [
  {
   "cell_type": "markdown",
   "id": "ffb483a9",
   "metadata": {},
   "source": [
    "Homework 1 "
   ]
  },
  {
   "cell_type": "code",
   "execution_count": 1,
   "id": "9aab833c",
   "metadata": {},
   "outputs": [],
   "source": [
    "import numpy as np"
   ]
  },
  {
   "cell_type": "code",
   "execution_count": 2,
   "id": "32f623a4",
   "metadata": {},
   "outputs": [],
   "source": [
    "# set the environment\n",
    "actions = ['U', 'R', 'D', 'L']\n",
    "states = [[a, b] for a in range(5) for b in range(5)]\n",
    "barrier = [[1, 3], [1, 4], [2, 1], [1, 2], [2, 2], [3, 2]]\n",
    "states = [s for s in states if s not in barrier]\n",
    "rewards = [10, -2, -1, 0]  # get reward 10 if arrive at 10"
   ]
  },
  {
   "cell_type": "code",
   "execution_count": 3,
   "id": "960073fb",
   "metadata": {},
   "outputs": [],
   "source": [
    "# define Markov decision processes\n",
    "def prob(s_prime, r, s, a):\n",
    "    if s == [0, 4]:\n",
    "        if s_prime == [0, 4] and r == 0:\n",
    "            return 1.0\n",
    "        else:\n",
    "            return 0.0\n",
    "\n",
    "    elif a == 'U':\n",
    "\n",
    "        if s == [2, 4]:\n",
    "            if s_prime == s and r == -2:\n",
    "                return 1.0\n",
    "            else:\n",
    "                return 0.0\n",
    "\n",
    "        elif s == [2, 3]:\n",
    "            if s_prime == s and r == -2:\n",
    "                return 1.0\n",
    "            else:\n",
    "                return 0.0\n",
    "\n",
    "        elif s == [4, 2]:\n",
    "            if s_prime == s and r == -2:\n",
    "                return 1.0\n",
    "            else:\n",
    "                return 0.0\n",
    "\n",
    "        elif s == [3, 1]:\n",
    "            if s_prime == s and r == -2:\n",
    "                return 1.0\n",
    "            else:\n",
    "                return 0.0\n",
    "\n",
    "        elif s[0] == 0 and s_prime == s and r == -1:\n",
    "            return 1.0\n",
    "\n",
    "        elif s[0] > 0 and s_prime == [s[0] - 1, s[1]] and r == -1:\n",
    "            return 1.0\n",
    "\n",
    "        else:\n",
    "            return 0.0\n",
    "\n",
    "    elif a == 'R':\n",
    "        if s == [1, 1]:\n",
    "            if s_prime == s and r == -2:\n",
    "                return 1.0\n",
    "            else:\n",
    "                return 0.0\n",
    "\n",
    "        elif s == [3, 1]:\n",
    "            if s_prime == s and r == -2:\n",
    "                return 1.0\n",
    "            else:\n",
    "                return 0.0\n",
    "\n",
    "        elif s == [0, 3]:\n",
    "            if s_prime == [0, 4] and r == 10:\n",
    "                return 1.0\n",
    "            else:\n",
    "                return 0.0\n",
    "\n",
    "        elif s == [2, 0]:\n",
    "            if s_prime == s and r == -2:\n",
    "                return 1.0\n",
    "            else:\n",
    "                return 0.0\n",
    "\n",
    "        elif s[1] == 4 and s_prime == s and r == -1:\n",
    "            return 1.0\n",
    "\n",
    "        elif s[1] < 4 and s_prime == [s[0], s[1] + 1] and r == -1:\n",
    "            return 1.0\n",
    "\n",
    "        else:\n",
    "            return 0.0\n",
    "\n",
    "    elif a == 'D':\n",
    "\n",
    "        if s == [0, 2]:\n",
    "            if s_prime == s and r == -2:\n",
    "                return 1.0\n",
    "            else:\n",
    "                return 0.0\n",
    "\n",
    "        elif s == [0, 3]:\n",
    "            if s_prime == s and r == -2:\n",
    "                return 1.0\n",
    "            else:\n",
    "                return 0.0\n",
    "\n",
    "        elif s == [1, 1]:\n",
    "            if s_prime == s and r == -2:\n",
    "                return 1.0\n",
    "            else:\n",
    "                return 0.0\n",
    "\n",
    "        elif s[0] == 4 and s_prime == s and r == -1:\n",
    "            return 1.0\n",
    "\n",
    "        elif s[0] < 4 and s_prime == [s[0] + 1, s[1]] and r == -1:\n",
    "            return 1.0\n",
    "\n",
    "        else:\n",
    "            return 0.0\n",
    "\n",
    "    elif a == 'L':\n",
    "\n",
    "        if s == [2, 3]:\n",
    "            if s_prime == s and r == -2:\n",
    "                return 1.0\n",
    "            else:\n",
    "                return 0.0\n",
    "\n",
    "        elif s == [3, 3]:\n",
    "            if s_prime == s and r == -2:\n",
    "                return 1.0\n",
    "            else:\n",
    "                return 0.0\n",
    "\n",
    "        elif s[1] == 0 and s_prime == s and r == -1:\n",
    "            return 1.0\n",
    "\n",
    "        elif s[1] > 0 and s_prime == [s[0], s[1] - 1] and r == -1:\n",
    "            return 1.0\n",
    "\n",
    "        else:\n",
    "            return 0.0"
   ]
  },
  {
   "cell_type": "markdown",
   "id": "58e879f9",
   "metadata": {},
   "source": [
    "## Initial Policy"
   ]
  },
  {
   "cell_type": "code",
   "execution_count": 4,
   "id": "d30232e6",
   "metadata": {},
   "outputs": [],
   "source": [
    "# define initial policy - 0.25 probability at each direction\n",
    "def pi(a, s):\n",
    "    if a == 'U':\n",
    "        return 0.25\n",
    "    elif a == 'R':\n",
    "        return 0.25\n",
    "    elif a == 'D':\n",
    "        return 0.25\n",
    "    else:\n",
    "        return 0.25"
   ]
  },
  {
   "cell_type": "code",
   "execution_count": 5,
   "id": "7473e4d6",
   "metadata": {},
   "outputs": [],
   "source": [
    "# discount factor\n",
    "gamma = 1"
   ]
  },
  {
   "cell_type": "markdown",
   "id": "a61d977e",
   "metadata": {},
   "source": [
    "## Finding the Value Function by finding a fixed point for the Bellman Operator"
   ]
  },
  {
   "cell_type": "code",
   "execution_count": 6,
   "id": "2292a572",
   "metadata": {},
   "outputs": [],
   "source": [
    "# define Bellman Equation\n",
    "def b(v):\n",
    "    vector = np.array([np.sum([pi(a, s) * prob(s_prime, r, s, a) * (r + gamma * v(s_prime))    \n",
    "                             for s_prime in states for a in actions for r in rewards]) for s in states])\n",
    "    vector[4] = 0\n",
    "\n",
    "    def w(s):\n",
    "        i = states.index(s)\n",
    "        return vector[i]\n",
    "\n",
    "    return w"
   ]
  },
  {
   "cell_type": "code",
   "execution_count": 7,
   "id": "07712842",
   "metadata": {},
   "outputs": [],
   "source": [
    "def v_0(s):\n",
    "    if s == [0,4]:\n",
    "        return 0.0\n",
    "    return 1.0"
   ]
  },
  {
   "cell_type": "code",
   "execution_count": 8,
   "id": "18da7517",
   "metadata": {},
   "outputs": [],
   "source": [
    "eps = 1 \n",
    "w = v_0\n",
    "while eps > 1e-6:\n",
    "    v = b(w)\n",
    "    eps = (np.array([(v(s) - w(s))**2 for s in states ])).sum()\n",
    "    w = v"
   ]
  },
  {
   "cell_type": "markdown",
   "id": "855ef3b0",
   "metadata": {},
   "source": [
    "**Print Value function for the initial policy**"
   ]
  },
  {
   "cell_type": "code",
   "execution_count": 9,
   "id": "fdca3656",
   "metadata": {},
   "outputs": [
    {
     "name": "stdout",
     "output_type": "stream",
     "text": [
      "[0, 0] -260.4458984955753\n",
      "[0, 1] -225.9532989628275\n",
      "[0, 2] -151.96859063922352\n",
      "[0, 3] -72.98421237015492\n",
      "[0, 4] 0.0\n",
      "[1, 0] -290.9390665354962\n",
      "[1, 1] -261.44589849557525\n",
      "[2, 0] -346.9260429138292\n",
      "[2, 3] -521.21616361625\n",
      "[2, 4] -521.6825845627113\n",
      "[3, 0] -397.9137964449316\n",
      "[3, 1] -421.90812613078435\n",
      "[3, 3] -514.7509739077246\n",
      "[3, 4] -517.1502393291751\n",
      "[4, 0] -420.9081261307844\n",
      "[4, 1] -439.90342124179915\n",
      "[4, 2] -472.8950263287089\n",
      "[4, 3] -500.8877344955746\n",
      "[4, 4] -511.01838295398306\n"
     ]
    }
   ],
   "source": [
    "for s in states:\n",
    "    print(s, v(s))"
   ]
  },
  {
   "cell_type": "markdown",
   "id": "e10ed28a",
   "metadata": {},
   "source": [
    "## State-Action Function"
   ]
  },
  {
   "cell_type": "code",
   "execution_count": 10,
   "id": "1189fe34",
   "metadata": {},
   "outputs": [],
   "source": [
    "def q(s, a):\n",
    "    return np.sum([prob(s_prime, r, s, a) * (r + gamma * v(s_prime))\n",
    "                   for s_prime in states for r in rewards])"
   ]
  },
  {
   "cell_type": "markdown",
   "id": "7974342c",
   "metadata": {},
   "source": [
    "## Generalized Policy Improvement"
   ]
  },
  {
   "cell_type": "code",
   "execution_count": 11,
   "id": "960662e7",
   "metadata": {},
   "outputs": [],
   "source": [
    "eps = 1\n",
    "\n",
    "def v_max(s):\n",
    "    i = states.index(s)\n",
    "    return q(s, max_actions[i])\n",
    "    \n",
    "    \n",
    "def pi(a, s):\n",
    "        i = states.index(s)\n",
    "        if a == max_actions[i]:\n",
    "            return 1.0\n",
    "        else:\n",
    "            return 0.0\n",
    "\n",
    "        \n",
    "while eps > 1e-6:    \n",
    "    max_actions = [actions[np.argmax([q(s,a) for a in actions])] for s in states]\n",
    "    \n",
    "    w = b(v_max)\n",
    "\n",
    "    eps = np.sum([(v(s) - w(s))**2 for s in states])\n",
    "    v = w         "
   ]
  },
  {
   "cell_type": "code",
   "execution_count": 12,
   "id": "08479514",
   "metadata": {},
   "outputs": [
    {
     "data": {
      "text/plain": [
       "[([0, 0], 7.0),\n",
       " ([0, 1], 8.0),\n",
       " ([0, 2], 9.0),\n",
       " ([0, 3], 10.0),\n",
       " ([0, 4], 0.0),\n",
       " ([1, 0], 6.0),\n",
       " ([1, 1], 7.0),\n",
       " ([2, 0], 5.0),\n",
       " ([2, 3], -2.0),\n",
       " ([2, 4], -3.0),\n",
       " ([3, 0], 4.0),\n",
       " ([3, 1], 3.0),\n",
       " ([3, 3], -1.0),\n",
       " ([3, 4], -2.0),\n",
       " ([4, 0], 3.0),\n",
       " ([4, 1], 2.0),\n",
       " ([4, 2], 1.0),\n",
       " ([4, 3], 0.0),\n",
       " ([4, 4], -1.0)]"
      ]
     },
     "execution_count": 12,
     "metadata": {},
     "output_type": "execute_result"
    }
   ],
   "source": [
    "([(s, v(s)) for s in states])"
   ]
  },
  {
   "cell_type": "markdown",
   "id": "9bdc9d4c",
   "metadata": {},
   "source": [
    "**Optimal Policy**"
   ]
  },
  {
   "cell_type": "code",
   "execution_count": 20,
   "id": "5a0c1e3d",
   "metadata": {},
   "outputs": [
    {
     "data": {
      "text/plain": [
       "[([0, 0], 'R'),\n",
       " ([0, 1], 'R'),\n",
       " ([0, 2], 'R'),\n",
       " ([0, 3], 'R'),\n",
       " ([0, 4], 'U'),\n",
       " ([1, 0], 'U'),\n",
       " ([1, 1], 'U'),\n",
       " ([2, 0], 'U'),\n",
       " ([2, 3], 'D'),\n",
       " ([2, 4], 'D'),\n",
       " ([3, 0], 'U'),\n",
       " ([3, 1], 'L'),\n",
       " ([3, 3], 'D'),\n",
       " ([3, 4], 'D'),\n",
       " ([4, 0], 'U'),\n",
       " ([4, 1], 'U'),\n",
       " ([4, 2], 'L'),\n",
       " ([4, 3], 'L'),\n",
       " ([4, 4], 'L')]"
      ]
     },
     "execution_count": 20,
     "metadata": {},
     "output_type": "execute_result"
    }
   ],
   "source": [
    "[(states[i],max_actions[i]) for i in range(19)]"
   ]
  },
  {
   "cell_type": "code",
   "execution_count": null,
   "id": "a26bbf43",
   "metadata": {},
   "outputs": [],
   "source": []
  }
 ],
 "metadata": {
  "kernelspec": {
   "display_name": "Python 3 (ipykernel)",
   "language": "python",
   "name": "python3"
  },
  "language_info": {
   "codemirror_mode": {
    "name": "ipython",
    "version": 3
   },
   "file_extension": ".py",
   "mimetype": "text/x-python",
   "name": "python",
   "nbconvert_exporter": "python",
   "pygments_lexer": "ipython3",
   "version": "3.9.12"
  },
  "latex_envs": {
   "LaTeX_envs_menu_present": true,
   "autoclose": false,
   "autocomplete": true,
   "bibliofile": "biblio.bib",
   "cite_by": "apalike",
   "current_citInitial": 1,
   "eqLabelWithNumbers": true,
   "eqNumInitial": 1,
   "hotkeys": {
    "equation": "Ctrl-E",
    "itemize": "Ctrl-I"
   },
   "labels_anchors": false,
   "latex_user_defs": false,
   "report_style_numbering": false,
   "user_envs_cfg": false
  },
  "toc": {
   "base_numbering": 1,
   "nav_menu": {},
   "number_sections": true,
   "sideBar": true,
   "skip_h1_title": false,
   "title_cell": "Table of Contents",
   "title_sidebar": "Contents",
   "toc_cell": false,
   "toc_position": {},
   "toc_section_display": true,
   "toc_window_display": false
  }
 },
 "nbformat": 4,
 "nbformat_minor": 5
}
