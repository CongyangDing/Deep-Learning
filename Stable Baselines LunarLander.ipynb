{
 "cells": [
  {
   "cell_type": "code",
   "execution_count": null,
   "id": "1d0f2583",
   "metadata": {},
   "outputs": [],
   "source": [
    "from stable_baselines3 import DQN\n",
    "import gym\n",
    "import gym_toytext\n",
    "from stable_baselines3.common.env_util import make_vec_env\n",
    "from stable_baselines3.dqn import MlpPolicy"
   ]
  },
  {
   "cell_type": "code",
   "execution_count": null,
   "id": "2c0b8290",
   "metadata": {},
   "outputs": [],
   "source": [
    "env =make_vec_env('LunarLander-v2',n_envs=2)"
   ]
  },
  {
   "cell_type": "code",
   "execution_count": null,
   "id": "7cea7e72",
   "metadata": {},
   "outputs": [],
   "source": [
    "state_sz = env.observation_space.shape[0]\n",
    "action_sz = env.action_space.n\n",
    "print('State space: ',state_sz)\n",
    "print('Action space: ',action_sz)"
   ]
  },
  {
   "cell_type": "code",
   "execution_count": null,
   "id": "9b8b1e5d",
   "metadata": {},
   "outputs": [],
   "source": [
    "model = DQN('MlpPolicy',env=env,learning_rate=0.001,verbose=1,buffer_size=100000, learning_starts=1000,\n",
    "       batch_size=128,target_update_interval=100,gamma=.99)"
   ]
  },
  {
   "cell_type": "code",
   "execution_count": null,
   "id": "04873bdf",
   "metadata": {},
   "outputs": [],
   "source": [
    "model.learn(total_timesteps=1000000)"
   ]
  },
  {
   "cell_type": "code",
   "execution_count": null,
   "id": "64b68ecb",
   "metadata": {},
   "outputs": [],
   "source": [
    "state = env.reset()\n",
    "for i in range(10000):\n",
    "    action, _state = model.predict(state, deterministic=True)\n",
    "    state, reward, done, info = env.step(action)\n",
    "    env.render()\n",
    "\n",
    "env.close()"
   ]
  },
  {
   "cell_type": "code",
   "execution_count": null,
   "id": "0fcee532",
   "metadata": {},
   "outputs": [],
   "source": []
  },
  {
   "cell_type": "code",
   "execution_count": null,
   "id": "e2863d91",
   "metadata": {},
   "outputs": [],
   "source": []
  }
 ],
 "metadata": {
  "kernelspec": {
   "display_name": "Python 3 (ipykernel)",
   "language": "python",
   "name": "python3"
  },
  "language_info": {
   "codemirror_mode": {
    "name": "ipython",
    "version": 3
   },
   "file_extension": ".py",
   "mimetype": "text/x-python",
   "name": "python",
   "nbconvert_exporter": "python",
   "pygments_lexer": "ipython3",
   "version": "3.10.4"
  }
 },
 "nbformat": 4,
 "nbformat_minor": 5
}
