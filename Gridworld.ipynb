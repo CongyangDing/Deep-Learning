{
 "cells": [
  {
   "cell_type": "code",
   "execution_count": 1,
   "metadata": {},
   "outputs": [],
   "source": [
    "import numpy as np"
   ]
  },
  {
   "cell_type": "code",
   "execution_count": 2,
   "metadata": {},
   "outputs": [],
   "source": [
    "actions = ['N','E','S','W']\n",
    "states = [[a,b] for a in range(4) for b in range(4)]\n",
    "rewards = [-1,0,10,5]"
   ]
  },
  {
   "cell_type": "code",
   "execution_count": 3,
   "metadata": {},
   "outputs": [],
   "source": [
    "def prob(s_prime,r,s,a):\n",
    "    \n",
    "    # transport to (3, 1) and get reward 10 at (0, 1)\n",
    "    if s == [0, 1]:\n",
    "        if s_prime == [3, 1] and r == 10:\n",
    "            return 1.0\n",
    "        else:\n",
    "            return 0.0\n",
    "        \n",
    "    # transport to (3, 3) and get reward 5 at (1, 3)    \n",
    "    if s == [1, 3]:\n",
    "        if s_prime == [3, 3] and r == 5:\n",
    "            return 1.0\n",
    "        else:\n",
    "            return 0.0\n",
    "\n",
    "    if a == 'N':\n",
    "\n",
    "        if s == [1, 1]:\n",
    "            if s_prime == [3, 1] and r == 10:\n",
    "                return 1.0\n",
    "            else:\n",
    "                return 0.0\n",
    "        \n",
    "        elif s == [2, 3]:\n",
    "            if s_prime == [3, 3] and r == 5:\n",
    "                return 1.0\n",
    "            else:\n",
    "                return 0.0\n",
    "            \n",
    "        elif s[0] > 0 and s_prime == [s[0] - 1, s[1]] and r == 0:\n",
    "            return 1.0\n",
    "        \n",
    "        # touch the wall\n",
    "        elif s[0] == 0 and s_prime == s and r == -1:\n",
    "            return 1.0\n",
    "        \n",
    "        else:\n",
    "            return 0.0\n",
    "        \n",
    "    elif a == 'E':\n",
    "        \n",
    "        if s == [0, 0]:\n",
    "            if s_prime == [3, 1] and r == 10:\n",
    "                return 1.0\n",
    "            else:\n",
    "                return 0.0\n",
    "            \n",
    "        elif s == [1,2]:\n",
    "            if s_prime == [3, 3] and r==5:\n",
    "                return 1.0\n",
    "            else: \n",
    "                return 0.0\n",
    "            \n",
    "        elif s[1] < 3 and s_prime == [s[0], s[1] + 1] and r == 0:\n",
    "            return 1.0\n",
    "        \n",
    "        elif s[1] == 3 and s_prime == s and r == -1:\n",
    "            return 1.0\n",
    "        \n",
    "        else:\n",
    "            return 0.0\n",
    "        \n",
    "    elif a == 'S':\n",
    "        \n",
    "        if s == [0, 3]:\n",
    "            if s_prime == [3, 3] and r == 5:\n",
    "                return 1.0\n",
    "            else: \n",
    "                return 0.0\n",
    "\n",
    "        if s[0] < 3 and s_prime == [s[0] + 1,s[1]] and r == 0:\n",
    "            return 1.0\n",
    "        \n",
    "        elif s[0] == 3 and s_prime == s and r == -1:\n",
    "            return 1.0\n",
    "        \n",
    "        else:\n",
    "            return 0.0\n",
    "        \n",
    "    elif a == 'W':\n",
    "\n",
    "        if s == [0,2]:\n",
    "            if s_prime == [3,1] and r == 10:\n",
    "                return 1.0\n",
    "            else:\n",
    "                return 0.0\n",
    "        \n",
    "        if s[1] > 0 and s_prime == [s[0], s[1] - 1] and r == 0:\n",
    "            return 1.0\n",
    "        \n",
    "        elif s[1] == 0 and s_prime == s and r == -1:\n",
    "            return 1.0\n",
    "        \n",
    "        else:\n",
    "            return 0.0        "
   ]
  },
  {
   "cell_type": "markdown",
   "metadata": {},
   "source": [
    "## Policy"
   ]
  },
  {
   "cell_type": "code",
   "execution_count": 4,
   "metadata": {},
   "outputs": [],
   "source": [
    "def pi(a,s):\n",
    "    if a == 'N':\n",
    "        return 0.25\n",
    "    elif a == 'S':\n",
    "        return 0.25\n",
    "    elif a == 'W':\n",
    "        return 0.25\n",
    "    else:\n",
    "        return 0.25        "
   ]
  },
  {
   "cell_type": "code",
   "execution_count": 5,
   "metadata": {},
   "outputs": [],
   "source": [
    "gamma = 0.9"
   ]
  },
  {
   "cell_type": "markdown",
   "metadata": {},
   "source": [
    "## Finding the Value Function by finding a fixed point for the Bellman Operator"
   ]
  },
  {
   "cell_type": "code",
   "execution_count": 6,
   "metadata": {},
   "outputs": [],
   "source": [
    "# Bellman operator\n",
    "def B(v):\n",
    "    \n",
    "    vector = np.array([np.sum([pi(a,s)*prob(s_prime, r, s, a)*(r + gamma * v(s_prime))\\\n",
    "                     for s_prime in states for a in actions for r in rewards]) for s in states])\n",
    "                         \n",
    "    def w(s):\n",
    "        i = states.index(s)\n",
    "        return vector[i]\n",
    "    \n",
    "    return w"
   ]
  },
  {
   "cell_type": "code",
   "execution_count": 7,
   "metadata": {},
   "outputs": [],
   "source": [
    "def v_0(s):\n",
    "    return 0.0"
   ]
  },
  {
   "cell_type": "code",
   "execution_count": 8,
   "metadata": {},
   "outputs": [],
   "source": [
    "eps = 1 \n",
    "w = v_0\n",
    "while eps > 1e-6:\n",
    "    v = B(w)\n",
    "    eps = (np.array([(v(s) - w(s))**2 for s in states ])).sum()\n",
    "    w = v"
   ]
  },
  {
   "cell_type": "code",
   "execution_count": 9,
   "metadata": {},
   "outputs": [
    {
     "name": "stdout",
     "output_type": "stream",
     "text": [
      "[0, 0] 4.496253285843853\n",
      "[0, 1] 9.822826601686613\n",
      "[0, 2] 4.781709848327758\n",
      "[0, 3] 3.1890386856796784\n",
      "[1, 0] 2.2995337042134425\n",
      "[1, 1] 4.046110308571434\n",
      "[1, 2] 3.478876211216798\n",
      "[1, 3] 4.712995696472147\n",
      "[2, 0] 0.49032610664258397\n",
      "[2, 1] 1.2907725789796949\n",
      "[2, 2] 1.3979117254546207\n",
      "[2, 3] 1.5108641835499377\n",
      "[3, 0] -0.7893316404350271\n",
      "[3, 1] -0.19661873005040842\n",
      "[3, 2] -0.06660972689894851\n",
      "[3, 3] -0.31865314322959243\n"
     ]
    }
   ],
   "source": [
    "for s in states:\n",
    "    print(s, v(s))"
   ]
  },
  {
   "cell_type": "markdown",
   "metadata": {},
   "source": [
    "## Finding the Value Function by solving system of linear equations"
   ]
  },
  {
   "cell_type": "code",
   "execution_count": 10,
   "metadata": {},
   "outputs": [],
   "source": [
    "V = np.eye(16)-np.array([np.array([np.sum([pi(a, s)*prob(s_prime, r, s, a)*gamma \\\n",
    "                for a in actions for r in rewards]) for s_prime in states]) for s in states]) "
   ]
  },
  {
   "cell_type": "code",
   "execution_count": 11,
   "metadata": {},
   "outputs": [
    {
     "data": {
      "text/plain": [
       "array([[ 0.55 ,  0.   ,  0.   ,  0.   , -0.225,  0.   ,  0.   ,  0.   ,\n",
       "         0.   ,  0.   ,  0.   ,  0.   ,  0.   , -0.225,  0.   ,  0.   ],\n",
       "       [ 0.   ,  1.   ,  0.   ,  0.   ,  0.   ,  0.   ,  0.   ,  0.   ,\n",
       "         0.   ,  0.   ,  0.   ,  0.   ,  0.   , -0.9  ,  0.   ,  0.   ],\n",
       "       [ 0.   ,  0.   ,  0.775, -0.225,  0.   ,  0.   , -0.225,  0.   ,\n",
       "         0.   ,  0.   ,  0.   ,  0.   ,  0.   , -0.225,  0.   ,  0.   ],\n",
       "       [ 0.   ,  0.   , -0.225,  0.55 ,  0.   ,  0.   ,  0.   ,  0.   ,\n",
       "         0.   ,  0.   ,  0.   ,  0.   ,  0.   ,  0.   ,  0.   , -0.225],\n",
       "       [-0.225,  0.   ,  0.   ,  0.   ,  0.775, -0.225,  0.   ,  0.   ,\n",
       "        -0.225,  0.   ,  0.   ,  0.   ,  0.   ,  0.   ,  0.   ,  0.   ],\n",
       "       [ 0.   ,  0.   ,  0.   ,  0.   , -0.225,  1.   , -0.225,  0.   ,\n",
       "         0.   , -0.225,  0.   ,  0.   ,  0.   , -0.225,  0.   ,  0.   ],\n",
       "       [ 0.   ,  0.   , -0.225,  0.   ,  0.   , -0.225,  1.   ,  0.   ,\n",
       "         0.   ,  0.   , -0.225,  0.   ,  0.   ,  0.   ,  0.   , -0.225],\n",
       "       [ 0.   ,  0.   ,  0.   ,  0.   ,  0.   ,  0.   ,  0.   ,  1.   ,\n",
       "         0.   ,  0.   ,  0.   ,  0.   ,  0.   ,  0.   ,  0.   , -0.9  ],\n",
       "       [ 0.   ,  0.   ,  0.   ,  0.   , -0.225,  0.   ,  0.   ,  0.   ,\n",
       "         0.775, -0.225,  0.   ,  0.   , -0.225,  0.   ,  0.   ,  0.   ],\n",
       "       [ 0.   ,  0.   ,  0.   ,  0.   ,  0.   , -0.225,  0.   ,  0.   ,\n",
       "        -0.225,  1.   , -0.225,  0.   ,  0.   , -0.225,  0.   ,  0.   ],\n",
       "       [ 0.   ,  0.   ,  0.   ,  0.   ,  0.   ,  0.   , -0.225,  0.   ,\n",
       "         0.   , -0.225,  1.   , -0.225,  0.   ,  0.   , -0.225,  0.   ],\n",
       "       [ 0.   ,  0.   ,  0.   ,  0.   ,  0.   ,  0.   ,  0.   ,  0.   ,\n",
       "         0.   ,  0.   , -0.225,  0.775,  0.   ,  0.   ,  0.   , -0.45 ],\n",
       "       [ 0.   ,  0.   ,  0.   ,  0.   ,  0.   ,  0.   ,  0.   ,  0.   ,\n",
       "        -0.225,  0.   ,  0.   ,  0.   ,  0.55 , -0.225,  0.   ,  0.   ],\n",
       "       [ 0.   ,  0.   ,  0.   ,  0.   ,  0.   ,  0.   ,  0.   ,  0.   ,\n",
       "         0.   , -0.225,  0.   ,  0.   , -0.225,  0.775, -0.225,  0.   ],\n",
       "       [ 0.   ,  0.   ,  0.   ,  0.   ,  0.   ,  0.   ,  0.   ,  0.   ,\n",
       "         0.   ,  0.   , -0.225,  0.   ,  0.   , -0.225,  0.775, -0.225],\n",
       "       [ 0.   ,  0.   ,  0.   ,  0.   ,  0.   ,  0.   ,  0.   ,  0.   ,\n",
       "         0.   ,  0.   ,  0.   , -0.225,  0.   ,  0.   , -0.225,  0.55 ]])"
      ]
     },
     "execution_count": 11,
     "metadata": {},
     "output_type": "execute_result"
    }
   ],
   "source": [
    "V"
   ]
  },
  {
   "cell_type": "code",
   "execution_count": 12,
   "metadata": {},
   "outputs": [],
   "source": [
    "C = np.array([np.sum([pi(a, s)*prob(s_prime, r, s, a)*r \\\n",
    "                for a in actions for r in rewards for s_prime in states]) for s in states]).reshape(-1,1)"
   ]
  },
  {
   "cell_type": "code",
   "execution_count": 13,
   "metadata": {},
   "outputs": [
    {
     "data": {
      "text/plain": [
       "array([[ 2.  ],\n",
       "       [10.  ],\n",
       "       [ 2.25],\n",
       "       [ 0.75],\n",
       "       [-0.25],\n",
       "       [ 2.5 ],\n",
       "       [ 1.25],\n",
       "       [ 5.  ],\n",
       "       [-0.25],\n",
       "       [ 0.  ],\n",
       "       [ 0.  ],\n",
       "       [ 1.  ],\n",
       "       [-0.5 ],\n",
       "       [-0.25],\n",
       "       [-0.25],\n",
       "       [-0.5 ]])"
      ]
     },
     "execution_count": 13,
     "metadata": {},
     "output_type": "execute_result"
    }
   ],
   "source": [
    "C"
   ]
  },
  {
   "cell_type": "code",
   "execution_count": 14,
   "metadata": {},
   "outputs": [],
   "source": [
    "V_inv = np.linalg.inv(V)"
   ]
  },
  {
   "cell_type": "code",
   "execution_count": 15,
   "metadata": {},
   "outputs": [
    {
     "data": {
      "text/plain": [
       "array([[ 4.49841868],\n",
       "       [ 9.8249919 ],\n",
       "       [ 4.78387499],\n",
       "       [ 3.19120373],\n",
       "       [ 2.3016991 ],\n",
       "       [ 4.0482756 ],\n",
       "       [ 3.48104136],\n",
       "       [ 4.71516071],\n",
       "       [ 0.4924915 ],\n",
       "       [ 1.29293787],\n",
       "       [ 1.40007687],\n",
       "       [ 1.51302923],\n",
       "       [-0.78716625],\n",
       "       [-0.19445344],\n",
       "       [-0.06444458],\n",
       "       [-0.3164881 ]])"
      ]
     },
     "execution_count": 15,
     "metadata": {},
     "output_type": "execute_result"
    }
   ],
   "source": [
    "V_inv@C"
   ]
  },
  {
   "cell_type": "markdown",
   "metadata": {},
   "source": [
    "## State-Action Function"
   ]
  },
  {
   "cell_type": "code",
   "execution_count": 16,
   "metadata": {},
   "outputs": [],
   "source": [
    "def q(s, a):\n",
    "       return np.sum([prob(s_prime, r, s, a)*(r + gamma*v(s_prime))\\\n",
    "     for s_prime in states for r in rewards])  "
   ]
  },
  {
   "cell_type": "markdown",
   "metadata": {},
   "source": [
    "## Generalized Policy Improvement"
   ]
  },
  {
   "cell_type": "code",
   "execution_count": 17,
   "metadata": {},
   "outputs": [],
   "source": [
    "eps = 1\n",
    "\n",
    "def v_max(s):\n",
    "    i = states.index(s)\n",
    "    return q(s,max_actions[i])\n",
    "    \n",
    "    \n",
    "def pi(a,s):\n",
    "        i = states.index(s)\n",
    "        if a == max_actions[i]:\n",
    "            return 1.0\n",
    "        else:\n",
    "            return 0.0\n",
    "        \n",
    "    \n",
    "while eps > 1e-6:    \n",
    "    max_actions = [actions[np.argmax([q(s, a) for a in actions])] for s in states]\n",
    "\n",
    "    w = B(v_max)\n",
    "\n",
    "    eps = np.sum([(v(s) - w(s))**2 for s in states])\n",
    "    v = w    "
   ]
  },
  {
   "cell_type": "code",
   "execution_count": 18,
   "metadata": {},
   "outputs": [
    {
     "data": {
      "text/plain": [
       "[([0, 0], 36.89956987963116),\n",
       " ([0, 1], 36.89956987963116),\n",
       " ([0, 2], 36.89956987963116),\n",
       " ([0, 3], 33.209459448250676),\n",
       " ([1, 0], 33.209459448250676),\n",
       " ([1, 1], 36.89956987963116),\n",
       " ([1, 2], 33.209459448250676),\n",
       " ([1, 3], 26.788451064836092),\n",
       " ([2, 0], 29.888451064836097),\n",
       " ([2, 1], 33.209459448250676),\n",
       " ([2, 2], 29.888451064836097),\n",
       " ([2, 3], 26.899569879631162),\n",
       " ([3, 0], 26.899569879631162),\n",
       " ([3, 1], 29.888451064836097),\n",
       " ([3, 2], 26.899569879631162),\n",
       " ([3, 3], 24.20945944825068)]"
      ]
     },
     "execution_count": 18,
     "metadata": {},
     "output_type": "execute_result"
    }
   ],
   "source": [
    "([(s, v(s)) for s in states])"
   ]
  },
  {
   "cell_type": "code",
   "execution_count": 19,
   "metadata": {},
   "outputs": [
    {
     "data": {
      "text/plain": [
       "[([0, 0], 'E'),\n",
       " ([0, 1], 'N'),\n",
       " ([0, 2], 'W'),\n",
       " ([0, 3], 'W'),\n",
       " ([1, 0], 'N'),\n",
       " ([1, 1], 'N'),\n",
       " ([1, 2], 'N'),\n",
       " ([1, 3], 'N'),\n",
       " ([2, 0], 'N'),\n",
       " ([2, 1], 'N'),\n",
       " ([2, 2], 'N'),\n",
       " ([2, 3], 'W'),\n",
       " ([3, 0], 'N'),\n",
       " ([3, 1], 'N'),\n",
       " ([3, 2], 'N'),\n",
       " ([3, 3], 'N')]"
      ]
     },
     "execution_count": 19,
     "metadata": {},
     "output_type": "execute_result"
    }
   ],
   "source": [
    "[(states[i], max_actions[i]) for i in range(16)]"
   ]
  },
  {
   "cell_type": "code",
   "execution_count": null,
   "metadata": {},
   "outputs": [],
   "source": []
  }
 ],
 "metadata": {
  "kernelspec": {
   "display_name": "Python 3 (ipykernel)",
   "language": "python",
   "name": "python3"
  },
  "language_info": {
   "codemirror_mode": {
    "name": "ipython",
    "version": 3
   },
   "file_extension": ".py",
   "mimetype": "text/x-python",
   "name": "python",
   "nbconvert_exporter": "python",
   "pygments_lexer": "ipython3",
   "version": "3.9.12"
  },
  "latex_envs": {
   "LaTeX_envs_menu_present": true,
   "autoclose": false,
   "autocomplete": true,
   "bibliofile": "biblio.bib",
   "cite_by": "apalike",
   "current_citInitial": 1,
   "eqLabelWithNumbers": true,
   "eqNumInitial": 1,
   "hotkeys": {
    "equation": "Ctrl-E",
    "itemize": "Ctrl-I"
   },
   "labels_anchors": false,
   "latex_user_defs": false,
   "report_style_numbering": false,
   "user_envs_cfg": false
  },
  "toc": {
   "base_numbering": 1,
   "nav_menu": {},
   "number_sections": true,
   "sideBar": true,
   "skip_h1_title": false,
   "title_cell": "Table of Contents",
   "title_sidebar": "Contents",
   "toc_cell": false,
   "toc_position": {},
   "toc_section_display": true,
   "toc_window_display": false
  }
 },
 "nbformat": 4,
 "nbformat_minor": 4
}
