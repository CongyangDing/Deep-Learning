{
 "cells": [
  {
   "cell_type": "code",
   "execution_count": null,
   "metadata": {},
   "outputs": [],
   "source": [
    "import matplotlib.pyplot as plt\n",
    "plt.plot([1,2,3,4])"
   ]
  },
  {
   "cell_type": "code",
   "execution_count": null,
   "metadata": {
    "ExecuteTime": {
     "end_time": "2020-03-08T17:29:31.682648Z",
     "start_time": "2020-03-08T17:29:29.702618Z"
    }
   },
   "outputs": [],
   "source": [
    "import os\n",
    "import numpy as np\n",
    "import torch\n",
    "import torchvision.datasets as dset\n",
    "import torchvision.transforms as transforms\n",
    "import torch.nn as nn\n",
    "import matplotlib.pyplot as plt\n",
    "%matplotlib inline\n",
    "\n",
    "import torch.optim as optim"
   ]
  },
  {
   "cell_type": "code",
   "execution_count": null,
   "metadata": {
    "ExecuteTime": {
     "end_time": "2020-03-08T17:29:33.298659Z",
     "start_time": "2020-03-08T17:29:33.193619Z"
    }
   },
   "outputs": [],
   "source": [
    "root = './data'\n",
    "trans = transforms.ToTensor()\n",
    "train_set = dset.MNIST(root, train=True,transform=trans,download=False)"
   ]
  },
  {
   "cell_type": "code",
   "execution_count": null,
   "metadata": {
    "ExecuteTime": {
     "end_time": "2020-03-08T17:29:36.187624Z",
     "start_time": "2020-03-08T17:29:36.121655Z"
    }
   },
   "outputs": [],
   "source": [
    "train_set[0]"
   ]
  },
  {
   "cell_type": "code",
   "execution_count": null,
   "metadata": {
    "ExecuteTime": {
     "end_time": "2020-03-08T17:31:44.861658Z",
     "start_time": "2020-03-08T17:31:44.687632Z"
    }
   },
   "outputs": [],
   "source": [
    "plt.imshow(train_set[0][0].data.numpy()[0]);"
   ]
  },
  {
   "cell_type": "code",
   "execution_count": null,
   "metadata": {
    "ExecuteTime": {
     "end_time": "2020-03-08T17:29:53.033329Z",
     "start_time": "2020-03-08T17:29:53.025334Z"
    }
   },
   "outputs": [],
   "source": [
    "len(train_set)"
   ]
  },
  {
   "cell_type": "code",
   "execution_count": null,
   "metadata": {
    "ExecuteTime": {
     "end_time": "2020-03-08T17:29:55.456333Z",
     "start_time": "2020-03-08T17:29:55.451329Z"
    }
   },
   "outputs": [],
   "source": [
    "from torch.utils.data import DataLoader"
   ]
  },
  {
   "cell_type": "code",
   "execution_count": null,
   "metadata": {
    "ExecuteTime": {
     "end_time": "2020-03-08T17:30:07.414522Z",
     "start_time": "2020-03-08T17:30:07.408519Z"
    }
   },
   "outputs": [],
   "source": [
    "train_loader = DataLoader(dataset=train_set,batch_size=64)"
   ]
  },
  {
   "cell_type": "code",
   "execution_count": null,
   "metadata": {
    "ExecuteTime": {
     "end_time": "2020-03-08T18:02:20.075769Z",
     "start_time": "2020-03-08T18:02:20.062734Z"
    }
   },
   "outputs": [],
   "source": [
    "test_set = dset.MNIST(root, train=False,transform=trans,download=True)\n",
    "test_loader = DataLoader(test_set,batch_size=1)\n",
    "len(test_set)"
   ]
  },
  {
   "cell_type": "code",
   "execution_count": null,
   "metadata": {
    "ExecuteTime": {
     "end_time": "2020-03-08T18:06:53.785962Z",
     "start_time": "2020-03-08T18:06:53.772959Z"
    }
   },
   "outputs": [],
   "source": [
    "class ConvNet(nn.Module):\n",
    "    def __init__(self):\n",
    "        super(ConvNet,self).__init__()\n",
    "        self.conv1 = nn.Conv2d(1,32,3)\n",
    "        self.relu = nn.ReLU()\n",
    "        self.max_pool = nn.MaxPool2d(2,2)\n",
    "        self.conv2 = nn.Conv2d(32,65,3)\n",
    "        self.conv3 = nn.Conv2d(65,64,3)\n",
    "        self.fc1 = nn.Linear(576,64)\n",
    "        self.fc2 = nn.Linear(64,10)\n",
    "        \n",
    "        \n",
    "    def forward(self,x):\n",
    "        x = self.conv1(x)\n",
    "        x = self.relu(x)\n",
    "        x = self.max_pool(x)\n",
    "        x = self.conv2(x)\n",
    "        x = self.relu(x)\n",
    "        x = self.max_pool(x)\n",
    "        x = self.conv3(x)\n",
    "        x = self.relu(x)\n",
    "        x = x.reshape(x.size(0),-1)\n",
    "        x = self.fc1(x)\n",
    "        x = self.relu(x)\n",
    "        x = self.fc2(x)\n",
    "        return x\n",
    "\n",
    "        \n",
    "        \n",
    "        \n",
    "        "
   ]
  },
  {
   "cell_type": "code",
   "execution_count": null,
   "metadata": {
    "ExecuteTime": {
     "end_time": "2020-03-08T18:06:58.764991Z",
     "start_time": "2020-03-08T18:06:58.751999Z"
    }
   },
   "outputs": [],
   "source": [
    "conv = ConvNet()\n",
    "print(conv)"
   ]
  },
  {
   "cell_type": "code",
   "execution_count": null,
   "metadata": {
    "ExecuteTime": {
     "end_time": "2020-03-08T18:07:02.914589Z",
     "start_time": "2020-03-08T18:07:02.909623Z"
    }
   },
   "outputs": [],
   "source": [
    "loss_function = nn.CrossEntropyLoss()\n",
    "optimizer = optim.SGD(conv.parameters(),lr=0.01,momentum=0.9)"
   ]
  },
  {
   "cell_type": "code",
   "execution_count": null,
   "metadata": {
    "ExecuteTime": {
     "end_time": "2020-03-08T18:13:31.207264Z",
     "start_time": "2020-03-08T18:07:06.097623Z"
    }
   },
   "outputs": [],
   "source": [
    "losses = []\n",
    "for epoch in range(3):\n",
    "    running_loss = 0.0\n",
    "    \n",
    "    for i, data in enumerate(train_loader):\n",
    "\n",
    "        inputs, labels = data\n",
    "    \n",
    "        optimizer.zero_grad()\n",
    "        \n",
    "        outputs = conv(inputs)\n",
    "        loss = loss_function(outputs,labels)\n",
    "        loss.backward()\n",
    "        optimizer.step()\n",
    "        \n",
    "        running_loss += loss.item()\n",
    "        \n",
    "        if i % 100 == 99:\n",
    "            losses.append(running_loss)\n",
    "            print('[%d,%d], loss: %.3f' % (epoch + 1, i+1,running_loss/100))\n",
    "            running_loss = 0.0"
   ]
  },
  {
   "cell_type": "code",
   "execution_count": null,
   "metadata": {
    "ExecuteTime": {
     "end_time": "2020-03-08T18:13:41.885293Z",
     "start_time": "2020-03-08T18:13:41.679264Z"
    }
   },
   "outputs": [],
   "source": [
    "plt.plot(losses)"
   ]
  },
  {
   "cell_type": "code",
   "execution_count": null,
   "metadata": {
    "ExecuteTime": {
     "end_time": "2020-03-08T18:14:06.578994Z",
     "start_time": "2020-03-08T18:13:47.764261Z"
    }
   },
   "outputs": [],
   "source": [
    "results = []\n",
    "for im, label in test_loader:\n",
    "\n",
    "    prediction = np.argmax(conv(im).detach().numpy())\n",
    "    if prediction == label:\n",
    "        results.append(1)\n",
    "    else:\n",
    "        results.append(0)\n",
    "        "
   ]
  },
  {
   "cell_type": "code",
   "execution_count": null,
   "metadata": {
    "ExecuteTime": {
     "end_time": "2020-03-08T18:14:09.124028Z",
     "start_time": "2020-03-08T18:14:09.117998Z"
    }
   },
   "outputs": [],
   "source": [
    "np.sum(results)/10000"
   ]
  },
  {
   "cell_type": "code",
   "execution_count": null,
   "metadata": {},
   "outputs": [],
   "source": []
  },
  {
   "cell_type": "code",
   "execution_count": null,
   "metadata": {},
   "outputs": [],
   "source": []
  }
 ],
 "metadata": {
  "kernelspec": {
   "display_name": "Python 3 (ipykernel)",
   "language": "python",
   "name": "python3"
  },
  "language_info": {
   "codemirror_mode": {
    "name": "ipython",
    "version": 3
   },
   "file_extension": ".py",
   "mimetype": "text/x-python",
   "name": "python",
   "nbconvert_exporter": "python",
   "pygments_lexer": "ipython3",
   "version": "3.10.4"
  },
  "latex_envs": {
   "LaTeX_envs_menu_present": true,
   "autoclose": false,
   "autocomplete": true,
   "bibliofile": "biblio.bib",
   "cite_by": "apalike",
   "current_citInitial": 1,
   "eqLabelWithNumbers": true,
   "eqNumInitial": 1,
   "hotkeys": {
    "equation": "Ctrl-E",
    "itemize": "Ctrl-I"
   },
   "labels_anchors": false,
   "latex_user_defs": false,
   "report_style_numbering": false,
   "user_envs_cfg": false
  }
 },
 "nbformat": 4,
 "nbformat_minor": 2
}
