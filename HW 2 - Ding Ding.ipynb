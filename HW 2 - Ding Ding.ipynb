{
 "cells": [
  {
   "cell_type": "markdown",
   "id": "28838885",
   "metadata": {},
   "source": [
    "## Question 1.1 (with diagonal moves)\n",
    "### Set up the environment:"
   ]
  },
  {
   "cell_type": "code",
   "execution_count": 1,
   "id": "4da10c9b",
   "metadata": {},
   "outputs": [],
   "source": [
    "import numpy as np\n",
    "import matplotlib.pyplot as plt"
   ]
  },
  {
   "cell_type": "code",
   "execution_count": 2,
   "id": "ff962c07",
   "metadata": {},
   "outputs": [],
   "source": [
    "S = [(i,j) for i in range(1,8) for j in range(1,11)]\n",
    "\n",
    "\n",
    "def random_state():\n",
    "    idx = np.random.choice(range(70))\n",
    "    return S[idx]"
   ]
  },
  {
   "cell_type": "code",
   "execution_count": 3,
   "id": "c28127f3",
   "metadata": {},
   "outputs": [],
   "source": [
    "def idx(t):\n",
    "    if t == 'u':\n",
    "        return 0\n",
    "    elif t == 'd':\n",
    "        return 1\n",
    "    elif t == 'l':\n",
    "        return 2\n",
    "    elif t == 'r':\n",
    "        return 3    \n",
    "    elif t == 'ul':\n",
    "        return 4\n",
    "    elif t == 'ld':\n",
    "        return 5\n",
    "    elif t == 'dr':\n",
    "        return 6\n",
    "    elif t == 'ru':\n",
    "        return 7  \n",
    "\n",
    "    \n",
    "def u(s):\n",
    "    if s == (4, 8):\n",
    "        return s\n",
    "    \n",
    "    elif s == (1, 10):\n",
    "        return s\n",
    "    \n",
    "    elif s[1] in [4, 5, 6, 9] and s[0] > 2:\n",
    "            return (s[0] - 2, s[1])\n",
    "        \n",
    "    elif s[1] in [7, 8] and s[0] > 3:\n",
    "            return (s[0] - 3, s[1])\n",
    "        \n",
    "    elif s[1] in [7, 8] and s[0] > 2:\n",
    "            return (s[0] - 2, s[1])\n",
    "         \n",
    "    elif s[0] > 1:\n",
    "        return (s[0] - 1, s[1])\n",
    "    \n",
    "    else:   \n",
    "        return s\n",
    "\n",
    "    \n",
    "def d(s):\n",
    "    if s == (4, 8):\n",
    "        return s\n",
    "    \n",
    "    elif s == (1, 10):\n",
    "        return s\n",
    "        \n",
    "    elif s[1] in [4, 5, 6, 9]:\n",
    "            return s\n",
    "        \n",
    "    elif s[1] in [7, 8] and s[0] > 1:\n",
    "            return (s[0] - 1, s[1])\n",
    "        \n",
    "    elif s[1] in [7, 8] and s[0] == 1:\n",
    "            return s\n",
    "        \n",
    "    elif s[0] < 7:\n",
    "        return (s[0] + 1, s[1])\n",
    "    \n",
    "    else:   \n",
    "        return s\n",
    "\n",
    "    \n",
    "def l(s):\n",
    "    if s == (4, 8):\n",
    "        return s\n",
    "\n",
    "    elif s == (1, 10):\n",
    "        return s\n",
    "    \n",
    "    elif s[1] in [5, 6, 7, 10] and s[0] > 1:\n",
    "            return (s[0] - 1, s[1] - 1)\n",
    "        \n",
    "    elif s[1] in [8, 9] and s[0] > 2:\n",
    "            return (s[0] - 2, s[1] - 1)\n",
    "        \n",
    "    elif s[1] in [8, 9] and s[0] > 1:\n",
    "            return (s[0] - 1, s[1] - 1)\n",
    "        \n",
    "    elif s[1] > 1:\n",
    "        return (s[0], s[1] - 1)\n",
    "    \n",
    "    else:   \n",
    "        return s\n",
    "\n",
    "    \n",
    "def r(s):\n",
    "    if s == (4, 8):\n",
    "        return s\n",
    "\n",
    "    elif s == (1, 10):\n",
    "        return s\n",
    "        \n",
    "    elif s[1] in [3, 4, 5, 8] and s[0] > 1:\n",
    "            return (s[0] - 1, s[1] + 1)   \n",
    "        \n",
    "    elif s[1] in [6, 7] and s[0] > 2:\n",
    "            return (s[0] - 2, s[1] + 1)\n",
    "        \n",
    "    elif s[1] in [6, 7] and s[0] > 1:\n",
    "            return (s[0] - 1, s[1] - 1)\n",
    "        \n",
    "    elif s[1] < 10:\n",
    "        return (s[0], s[1] + 1)\n",
    "    \n",
    "    else:   \n",
    "        return s\n",
    "\n",
    "    \n",
    "def ul(s):\n",
    "    if s == (4, 8):\n",
    "        return s\n",
    "    \n",
    "    elif s == (1, 10):\n",
    "        return s\n",
    "        \n",
    "    elif s[1] in [5, 6, 7, 10] and s[0] > 2:\n",
    "            return (s[0] - 2, s[1] - 1)\n",
    "        \n",
    "    elif s[1] in [8, 9] and s[0] > 3:\n",
    "            return (s[0] - 3, s[1] - 1)\n",
    "        \n",
    "    elif s[1] in [8, 9] and s[0] > 2:\n",
    "            return (s[0] - 2, s[1] - 1)\n",
    "         \n",
    "    elif s[1] > 1 and s[0] > 1:\n",
    "        return (s[0] - 1, s[1] - 1)\n",
    "    \n",
    "    elif s[1] > 1:\n",
    "        return (s[0], s[1] - 1)\n",
    "    \n",
    "    elif s[0] > 1: \n",
    "        return (s[0] - 1, s[1])\n",
    "    \n",
    "    else:   \n",
    "        return s    \n",
    "\n",
    "    \n",
    "def ld(s):\n",
    "    if s == (4, 8):\n",
    "        return s\n",
    "    \n",
    "    elif s == (1, 10):\n",
    "        return s\n",
    "        \n",
    "    elif s[1] in [5, 6, 7, 10]:\n",
    "            return (s[0], s[1] - 1)\n",
    "        \n",
    "    elif s[1] in [8, 9] and s[0] > 1:\n",
    "            return (s[0] - 1, s[1] - 1)\n",
    "        \n",
    "    elif s[1] in [8, 9] and s[0] == 1:\n",
    "            return (s[0], s[1] - 1)\n",
    "        \n",
    "    elif s[1] > 1 and s[0] < 7:\n",
    "        return (s[0] + 1, s[1] - 1)\n",
    "    \n",
    "    elif s[1] > 1:\n",
    "        return (s[0], s[1] - 1)\n",
    "    \n",
    "    elif s[0] < 7: \n",
    "        return (s[0] + 1, s[1])\n",
    "    \n",
    "    else:   \n",
    "        return s \n",
    "\n",
    "    \n",
    "def dr(s):\n",
    "    if s == (4, 8):\n",
    "        return s\n",
    "    \n",
    "    elif s == (1, 10):\n",
    "        return s\n",
    "        \n",
    "    elif s[1] in [3, 4, 5, 8]:\n",
    "            return (s[0], s[1] + 1)\n",
    "        \n",
    "    elif s[1] in [6, 7] and s[0] > 1:\n",
    "            return (s[0] - 1, s[1] + 1)\n",
    "        \n",
    "    elif s[1] in [6, 7] and s[0] == 1:\n",
    "            return (s[0], s[1] + 1)        \n",
    "         \n",
    "    elif s[0] < 7 and s[1] < 10:\n",
    "        return (s[0] + 1, s[1] + 1)\n",
    "    \n",
    "    elif s[1] < 10:\n",
    "        return (s[0], s[1] + 1)\n",
    "    \n",
    "    elif s[0] < 7: \n",
    "        return (s[0] + 1, s[1])\n",
    "    \n",
    "    else:   \n",
    "        return s \n",
    "    \n",
    "\n",
    "def ru(s):\n",
    "    if s == (4, 8):\n",
    "        return s\n",
    "    \n",
    "    elif s == (1, 10):\n",
    "        return s\n",
    "        \n",
    "    elif s[1] in [3, 4, 5, 8] and s[0] > 2:\n",
    "            return (s[0] - 2, s[1] + 1)\n",
    "        \n",
    "    elif s[1] in [6, 7] and s[0] > 3:\n",
    "            return (s[0] - 3, s[1] + 1)\n",
    "        \n",
    "    elif s[1] in [6, 7] and s[0] > 2:\n",
    "            return (s[0] - 2, s[1] + 1)\n",
    "         \n",
    "    elif s[0] > 1 and s[1] < 10:\n",
    "        return (s[0] - 1, s[1] + 1)\n",
    "    \n",
    "    elif s[1] < 10:\n",
    "        return (s[0], s[1] + 1)\n",
    "    \n",
    "    elif s[0] > 1: \n",
    "        return (s[0] - 1, s[1])\n",
    "    \n",
    "    else:   \n",
    "        return s"
   ]
  },
  {
   "cell_type": "code",
   "execution_count": 4,
   "id": "57cfedc6",
   "metadata": {},
   "outputs": [],
   "source": [
    "A = [u, d, l, r, ul, ld, dr, ru]\n",
    "A_names = ['u', 'd', 'l', 'r', 'ul', 'ld', 'dr', 'ru']\n",
    "\n",
    "\n",
    "def random_action():\n",
    "    a = np.random.choice(A_names)\n",
    "    return a"
   ]
  },
  {
   "cell_type": "code",
   "execution_count": 5,
   "id": "311ee29c",
   "metadata": {},
   "outputs": [],
   "source": [
    "def reward(s,a):\n",
    "    \n",
    "    x = idx(a)\n",
    "    s_prime = A[x](s)\n",
    "    if s_prime == (4, 8):\n",
    "        return 10    \n",
    "    elif s_prime == (1, 10):\n",
    "        return -100\n",
    "    else: \n",
    "        return -1"
   ]
  },
  {
   "cell_type": "code",
   "execution_count": 6,
   "id": "cb1cd2c3",
   "metadata": {},
   "outputs": [],
   "source": [
    "q = {(s, a):0  for s in S for a in A_names}\n",
    "q[((4, 8), None)] = 0\n",
    "q[((1, 10), None)] = 0"
   ]
  },
  {
   "cell_type": "markdown",
   "id": "5f541068",
   "metadata": {},
   "source": [
    "### Greedy SARAR"
   ]
  },
  {
   "cell_type": "code",
   "execution_count": 7,
   "id": "6010f0e4",
   "metadata": {},
   "outputs": [],
   "source": [
    "def greedy_sarsa(s,a,q):\n",
    "    if s == (4, 8):\n",
    "            return (s, a, 0, s, None)\n",
    "    if s == (1, 10):\n",
    "            return (s, a, 0, s, None)\n",
    "    else:\n",
    "        x = idx(a)\n",
    "        s_prime = A[x](s)\n",
    "        if s_prime == (4, 8):\n",
    "            return (s, a, 10, s_prime, None)\n",
    "        r = reward(s, a)\n",
    "        a_prime = A_names[np.argmax([q[s_prime, a] for a in A_names])]\n",
    "        return (s, a, r, s_prime, a_prime)"
   ]
  },
  {
   "cell_type": "code",
   "execution_count": 8,
   "id": "969f7daf",
   "metadata": {},
   "outputs": [],
   "source": [
    "alpha = 0.01\n",
    "\n",
    "for _ in range(100000):\n",
    "    s = random_state()   \n",
    "    a = np.random.choice(A_names)\n",
    "        \n",
    "    while s != (4, 8) and s !=(1, 10):\n",
    "        (s, a, r, s_prime, a_prime) = greedy_sarsa(s, a, q)\n",
    "        q[s,a] = q[s,a] + alpha * (r + q[s_prime, a_prime] - q[s, a])\n",
    "        (s, a) = (s_prime, a_prime)"
   ]
  },
  {
   "cell_type": "code",
   "execution_count": 9,
   "id": "3bf77cbf",
   "metadata": {},
   "outputs": [
    {
     "data": {
      "text/plain": [
       "[((1, 1), 'd'),\n",
       " ((1, 2), 'ld'),\n",
       " ((1, 3), 'ld'),\n",
       " ((1, 4), 'dr'),\n",
       " ((1, 5), 'r'),\n",
       " ((1, 6), 'r'),\n",
       " ((1, 7), 'dr'),\n",
       " ((1, 8), 'r'),\n",
       " ((1, 9), 'dr'),\n",
       " ((1, 10), 'u'),\n",
       " ((2, 1), 'dr'),\n",
       " ((2, 2), 'd'),\n",
       " ((2, 3), 'ld'),\n",
       " ((2, 4), 'ru'),\n",
       " ((2, 5), 'dr'),\n",
       " ((2, 6), 'dr'),\n",
       " ((2, 7), 'ru'),\n",
       " ((2, 8), 'dr'),\n",
       " ((2, 9), 'dr'),\n",
       " ((2, 10), 'd'),\n",
       " ((3, 1), 'd'),\n",
       " ((3, 2), 'ld'),\n",
       " ((3, 3), 'ld'),\n",
       " ((3, 4), 'ld'),\n",
       " ((3, 5), 'dr'),\n",
       " ((3, 6), 'r'),\n",
       " ((3, 7), 'r'),\n",
       " ((3, 8), 'dr'),\n",
       " ((3, 9), 'dr'),\n",
       " ((3, 10), 'dr'),\n",
       " ((4, 1), 'dr'),\n",
       " ((4, 2), 'd'),\n",
       " ((4, 3), 'ld'),\n",
       " ((4, 4), 'ld'),\n",
       " ((4, 5), 'ld'),\n",
       " ((4, 6), 'ru'),\n",
       " ((4, 7), 'dr'),\n",
       " ((4, 8), 'u'),\n",
       " ((4, 9), 'dr'),\n",
       " ((4, 10), 'dr'),\n",
       " ((5, 1), 'r'),\n",
       " ((5, 2), 'dr'),\n",
       " ((5, 3), 'd'),\n",
       " ((5, 4), 'ld'),\n",
       " ((5, 5), 'ld'),\n",
       " ((5, 6), 'dr'),\n",
       " ((5, 7), 'dr'),\n",
       " ((5, 8), 'd'),\n",
       " ((5, 9), 'ld'),\n",
       " ((5, 10), 'ld'),\n",
       " ((6, 1), 'ru'),\n",
       " ((6, 2), 'r'),\n",
       " ((6, 3), 'dr'),\n",
       " ((6, 4), 'dr'),\n",
       " ((6, 5), 'dr'),\n",
       " ((6, 6), 'dr'),\n",
       " ((6, 7), 'r'),\n",
       " ((6, 8), 'r'),\n",
       " ((6, 9), 'l'),\n",
       " ((6, 10), 'l'),\n",
       " ((7, 1), 'dr'),\n",
       " ((7, 2), 'ru'),\n",
       " ((7, 3), 'dr'),\n",
       " ((7, 4), 'r'),\n",
       " ((7, 5), 'r'),\n",
       " ((7, 6), 'r'),\n",
       " ((7, 7), 'ru'),\n",
       " ((7, 8), 'u'),\n",
       " ((7, 9), 'ul'),\n",
       " ((7, 10), 'ul')]"
      ]
     },
     "execution_count": 9,
     "metadata": {},
     "output_type": "execute_result"
    }
   ],
   "source": [
    "optimal_actions = [ (s, A_names[np.argmax([q[s, a] for a in A_names])]) for s in S]\n",
    "optimal_actions"
   ]
  },
  {
   "cell_type": "markdown",
   "id": "82add7a1",
   "metadata": {},
   "source": [
    "#### Start at (7, 1) ((6, 0) in the slides)"
   ]
  },
  {
   "cell_type": "code",
   "execution_count": 10,
   "id": "7bf76609",
   "metadata": {},
   "outputs": [
    {
     "data": {
      "text/plain": [
       "[(7, 1), (7, 2), (6, 3), (6, 4), (6, 5), (6, 6), (5, 7), (4, 8)]"
      ]
     },
     "execution_count": 10,
     "metadata": {},
     "output_type": "execute_result"
    }
   ],
   "source": [
    "path = [(7, 1)]\n",
    "s = (7, 1)\n",
    "while s != (4, 8) and s != (1, 10):\n",
    "    k = np.argmax([q[s, a] for a in A_names])\n",
    "    s = A[k](s)\n",
    "    path.append(s)\n",
    "\n",
    "path"
   ]
  },
  {
   "cell_type": "markdown",
   "id": "d1edbf73",
   "metadata": {},
   "source": [
    "#### Start at (4, 1) ((3, 0) in the slides)"
   ]
  },
  {
   "cell_type": "code",
   "execution_count": 11,
   "id": "5362c6f6",
   "metadata": {},
   "outputs": [
    {
     "data": {
      "text/plain": [
       "[(4, 1), (7, 2), (6, 3), (6, 4), (6, 5), (6, 6), (5, 7), (4, 8)]"
      ]
     },
     "execution_count": 11,
     "metadata": {},
     "output_type": "execute_result"
    }
   ],
   "source": [
    "path = [(4, 1)]\n",
    "s = (7, 1)\n",
    "while s != (4, 8) and s != (1, 10):\n",
    "    k = np.argmax([q[s, a] for a in A_names])\n",
    "    s = A[k](s)\n",
    "    path.append(s)\n",
    "\n",
    "path"
   ]
  },
  {
   "cell_type": "markdown",
   "id": "b2d49c34",
   "metadata": {},
   "source": [
    "#### Start at (1, 8) ((0, 7) in the slides)"
   ]
  },
  {
   "cell_type": "code",
   "execution_count": 12,
   "id": "aaf0164a",
   "metadata": {},
   "outputs": [
    {
     "data": {
      "text/plain": [
       "[(1, 8), (1, 9), (2, 10), (3, 10), (4, 10), (5, 10), (5, 9), (4, 8)]"
      ]
     },
     "execution_count": 12,
     "metadata": {},
     "output_type": "execute_result"
    }
   ],
   "source": [
    "path = [(1, 8)]\n",
    "s = (1, 8)\n",
    "while s != (4, 8) and s != (1, 10):\n",
    "    k = np.argmax([q[s, a] for a in A_names])\n",
    "    s = A[k](s)\n",
    "    path.append(s)\n",
    "\n",
    "path"
   ]
  },
  {
   "cell_type": "markdown",
   "id": "837e2f56",
   "metadata": {},
   "source": [
    "### $\\varepsilon$-Greedy SARSA"
   ]
  },
  {
   "cell_type": "code",
   "execution_count": 13,
   "id": "0c4f37be",
   "metadata": {},
   "outputs": [],
   "source": [
    "eps = 0.1"
   ]
  },
  {
   "cell_type": "code",
   "execution_count": 14,
   "id": "6a7de4a5",
   "metadata": {},
   "outputs": [],
   "source": [
    "for k in range(1,100000):\n",
    "    \n",
    "    s = random_state()  \n",
    "    a = np.random.choice(A_names)\n",
    "        \n",
    "    while s != (4,8) and s != (1, 10):        \n",
    "        (s, a, r, s_prime, a_prime) = greedy_sarsa(s, a, q)\n",
    "        u = np.random.random()\n",
    "        if u < eps/k:\n",
    "            a_prime = np.random.choice(A_names)\n",
    "                        \n",
    "        q[s, a] = q[s, a] + alpha * (r + q[s_prime, a_prime] - q[s, a])\n",
    "        (s, a) = (s_prime, a_prime)"
   ]
  },
  {
   "cell_type": "code",
   "execution_count": 15,
   "id": "96c7a37c",
   "metadata": {},
   "outputs": [
    {
     "data": {
      "text/plain": [
       "[((1, 1), 'd'),\n",
       " ((1, 2), 'ld'),\n",
       " ((1, 3), 'ld'),\n",
       " ((1, 4), 'ld'),\n",
       " ((1, 5), 'r'),\n",
       " ((1, 6), 'r'),\n",
       " ((1, 7), 'dr'),\n",
       " ((1, 8), 'r'),\n",
       " ((1, 9), 'dr'),\n",
       " ((1, 10), 'u'),\n",
       " ((2, 1), 'dr'),\n",
       " ((2, 2), 'd'),\n",
       " ((2, 3), 'ld'),\n",
       " ((2, 4), 'ld'),\n",
       " ((2, 5), 'dr'),\n",
       " ((2, 6), 'dr'),\n",
       " ((2, 7), 'ru'),\n",
       " ((2, 8), 'dr'),\n",
       " ((2, 9), 'dr'),\n",
       " ((2, 10), 'd'),\n",
       " ((3, 1), 'd'),\n",
       " ((3, 2), 'ld'),\n",
       " ((3, 3), 'ld'),\n",
       " ((3, 4), 'ld'),\n",
       " ((3, 5), 'ld'),\n",
       " ((3, 6), 'r'),\n",
       " ((3, 7), 'dr'),\n",
       " ((3, 8), 'dr'),\n",
       " ((3, 9), 'dr'),\n",
       " ((3, 10), 'dr'),\n",
       " ((4, 1), 'dr'),\n",
       " ((4, 2), 'd'),\n",
       " ((4, 3), 'ld'),\n",
       " ((4, 4), 'ld'),\n",
       " ((4, 5), 'ld'),\n",
       " ((4, 6), 'dr'),\n",
       " ((4, 7), 'dr'),\n",
       " ((4, 8), 'u'),\n",
       " ((4, 9), 'dr'),\n",
       " ((4, 10), 'dr'),\n",
       " ((5, 1), 'r'),\n",
       " ((5, 2), 'dr'),\n",
       " ((5, 3), 'd'),\n",
       " ((5, 4), 'ld'),\n",
       " ((5, 5), 'ld'),\n",
       " ((5, 6), 'dr'),\n",
       " ((5, 7), 'dr'),\n",
       " ((5, 8), 'd'),\n",
       " ((5, 9), 'ld'),\n",
       " ((5, 10), 'ld'),\n",
       " ((6, 1), 'ru'),\n",
       " ((6, 2), 'r'),\n",
       " ((6, 3), 'dr'),\n",
       " ((6, 4), 'dr'),\n",
       " ((6, 5), 'dr'),\n",
       " ((6, 6), 'dr'),\n",
       " ((6, 7), 'r'),\n",
       " ((6, 8), 'r'),\n",
       " ((6, 9), 'l'),\n",
       " ((6, 10), 'l'),\n",
       " ((7, 1), 'dr'),\n",
       " ((7, 2), 'ru'),\n",
       " ((7, 3), 'dr'),\n",
       " ((7, 4), 'r'),\n",
       " ((7, 5), 'r'),\n",
       " ((7, 6), 'r'),\n",
       " ((7, 7), 'ru'),\n",
       " ((7, 8), 'u'),\n",
       " ((7, 9), 'ul'),\n",
       " ((7, 10), 'ul')]"
      ]
     },
     "execution_count": 15,
     "metadata": {},
     "output_type": "execute_result"
    }
   ],
   "source": [
    "optimal_actions = [ (s, A_names[np.argmax([q[s, a] for a in A_names])]) for s in S]\n",
    "optimal_actions"
   ]
  },
  {
   "cell_type": "markdown",
   "id": "27955251",
   "metadata": {},
   "source": [
    "#### Start at (7, 1) ((6, 0) in the slides)"
   ]
  },
  {
   "cell_type": "code",
   "execution_count": 16,
   "id": "d9b6b129",
   "metadata": {},
   "outputs": [
    {
     "data": {
      "text/plain": [
       "[(7, 1), (7, 2), (6, 3), (6, 4), (6, 5), (6, 6), (5, 7), (4, 8)]"
      ]
     },
     "execution_count": 16,
     "metadata": {},
     "output_type": "execute_result"
    }
   ],
   "source": [
    "path = [(7, 1)]\n",
    "s = (7, 1)\n",
    "while s != (4, 8) and s != (1, 10):\n",
    "    k = np.argmax([q[s, a] for a in A_names])\n",
    "    s = A[k](s)\n",
    "    path.append(s)\n",
    "\n",
    "path"
   ]
  },
  {
   "cell_type": "markdown",
   "id": "4ec7cadd",
   "metadata": {},
   "source": [
    "#### Start at (4, 1) ((3, 0) in the slides)"
   ]
  },
  {
   "cell_type": "code",
   "execution_count": 17,
   "id": "d6597fdd",
   "metadata": {},
   "outputs": [
    {
     "data": {
      "text/plain": [
       "[(4, 1), (5, 2), (6, 3), (6, 4), (6, 5), (6, 6), (5, 7), (4, 8)]"
      ]
     },
     "execution_count": 17,
     "metadata": {},
     "output_type": "execute_result"
    }
   ],
   "source": [
    "path = [(4, 1)]\n",
    "s = (4, 1)\n",
    "while s != (4, 8) and s != (1, 10):\n",
    "    k = np.argmax([q[s, a] for a in A_names])\n",
    "    s = A[k](s)\n",
    "    path.append(s)\n",
    "\n",
    "path"
   ]
  },
  {
   "cell_type": "markdown",
   "id": "a3ff0f99",
   "metadata": {},
   "source": [
    "#### Start at (1, 8) ((0, 7) in the slides)"
   ]
  },
  {
   "cell_type": "code",
   "execution_count": 18,
   "id": "60a00647",
   "metadata": {},
   "outputs": [
    {
     "data": {
      "text/plain": [
       "[(1, 8), (1, 9), (2, 10), (3, 10), (4, 10), (5, 10), (5, 9), (4, 8)]"
      ]
     },
     "execution_count": 18,
     "metadata": {},
     "output_type": "execute_result"
    }
   ],
   "source": [
    "path = [(1, 8)]\n",
    "s = (1, 8)\n",
    "while s != (4, 8) and s != (1, 10):\n",
    "    k = np.argmax([q[s, a] for a in A_names])\n",
    "    s = A[k](s)\n",
    "    path.append(s)\n",
    "\n",
    "path"
   ]
  },
  {
   "cell_type": "markdown",
   "id": "9a0bbdc0",
   "metadata": {},
   "source": [
    "### Q-learning "
   ]
  },
  {
   "cell_type": "code",
   "execution_count": 19,
   "id": "78443f86",
   "metadata": {},
   "outputs": [],
   "source": [
    "for k in range(1,10000):\n",
    "    \n",
    "    s = random_state()    \n",
    "    \n",
    "    while s != (4,8) and s != (1, 10):\n",
    "       \n",
    "        a = A_names[np.argmax([ q[s,a] for a in A_names])]\n",
    "\n",
    "        u = np.random.random()\n",
    "        if u < eps/k:\n",
    "            a = np.random.choice(A_names)\n",
    "        \n",
    "        \n",
    "        s_prime = A[idx(a)](s)\n",
    "        \n",
    "        q[s, a] = q[s, a] + alpha * ((reward(s, a) + np.max([q[s_prime, a] for a in A_names]) - q[s, a]))\n",
    "\n",
    "        s = s_prime"
   ]
  },
  {
   "cell_type": "code",
   "execution_count": 20,
   "id": "83367f5b",
   "metadata": {},
   "outputs": [
    {
     "data": {
      "text/plain": [
       "[((1, 1), 'd'),\n",
       " ((1, 2), 'ld'),\n",
       " ((1, 3), 'ld'),\n",
       " ((1, 4), 'ld'),\n",
       " ((1, 5), 'r'),\n",
       " ((1, 6), 'r'),\n",
       " ((1, 7), 'dr'),\n",
       " ((1, 8), 'r'),\n",
       " ((1, 9), 'dr'),\n",
       " ((1, 10), 'u'),\n",
       " ((2, 1), 'dr'),\n",
       " ((2, 2), 'd'),\n",
       " ((2, 3), 'ld'),\n",
       " ((2, 4), 'ld'),\n",
       " ((2, 5), 'dr'),\n",
       " ((2, 6), 'dr'),\n",
       " ((2, 7), 'ru'),\n",
       " ((2, 8), 'dr'),\n",
       " ((2, 9), 'dr'),\n",
       " ((2, 10), 'd'),\n",
       " ((3, 1), 'd'),\n",
       " ((3, 2), 'ld'),\n",
       " ((3, 3), 'ld'),\n",
       " ((3, 4), 'ld'),\n",
       " ((3, 5), 'ld'),\n",
       " ((3, 6), 'r'),\n",
       " ((3, 7), 'dr'),\n",
       " ((3, 8), 'dr'),\n",
       " ((3, 9), 'dr'),\n",
       " ((3, 10), 'dr'),\n",
       " ((4, 1), 'dr'),\n",
       " ((4, 2), 'd'),\n",
       " ((4, 3), 'ld'),\n",
       " ((4, 4), 'ld'),\n",
       " ((4, 5), 'ld'),\n",
       " ((4, 6), 'dr'),\n",
       " ((4, 7), 'dr'),\n",
       " ((4, 8), 'u'),\n",
       " ((4, 9), 'dr'),\n",
       " ((4, 10), 'dr'),\n",
       " ((5, 1), 'r'),\n",
       " ((5, 2), 'dr'),\n",
       " ((5, 3), 'd'),\n",
       " ((5, 4), 'ld'),\n",
       " ((5, 5), 'ld'),\n",
       " ((5, 6), 'dr'),\n",
       " ((5, 7), 'dr'),\n",
       " ((5, 8), 'd'),\n",
       " ((5, 9), 'ld'),\n",
       " ((5, 10), 'ld'),\n",
       " ((6, 1), 'ru'),\n",
       " ((6, 2), 'r'),\n",
       " ((6, 3), 'dr'),\n",
       " ((6, 4), 'dr'),\n",
       " ((6, 5), 'dr'),\n",
       " ((6, 6), 'dr'),\n",
       " ((6, 7), 'r'),\n",
       " ((6, 8), 'r'),\n",
       " ((6, 9), 'l'),\n",
       " ((6, 10), 'l'),\n",
       " ((7, 1), 'dr'),\n",
       " ((7, 2), 'ru'),\n",
       " ((7, 3), 'dr'),\n",
       " ((7, 4), 'r'),\n",
       " ((7, 5), 'r'),\n",
       " ((7, 6), 'r'),\n",
       " ((7, 7), 'ru'),\n",
       " ((7, 8), 'u'),\n",
       " ((7, 9), 'ul'),\n",
       " ((7, 10), 'ul')]"
      ]
     },
     "execution_count": 20,
     "metadata": {},
     "output_type": "execute_result"
    }
   ],
   "source": [
    "optimal_actions = [ (s, A_names[np.argmax([q[s, a] for a in A_names])]) for s in S]\n",
    "optimal_actions"
   ]
  },
  {
   "cell_type": "markdown",
   "id": "ea55fa0e",
   "metadata": {},
   "source": [
    "#### Start at (7, 1) ((6, 0) in the slides)"
   ]
  },
  {
   "cell_type": "code",
   "execution_count": 21,
   "id": "339685f0",
   "metadata": {},
   "outputs": [
    {
     "data": {
      "text/plain": [
       "[(4, 1), (5, 2), (6, 3), (6, 4), (6, 5), (6, 6), (5, 7), (4, 8)]"
      ]
     },
     "execution_count": 21,
     "metadata": {},
     "output_type": "execute_result"
    }
   ],
   "source": [
    "path = [(4, 1)]\n",
    "s = (4, 1)\n",
    "while s != (4, 8) and s != (1, 10):\n",
    "    k = np.argmax([q[s, a] for a in A_names])\n",
    "    s = A[k](s)\n",
    "    path.append(s)\n",
    "\n",
    "path"
   ]
  },
  {
   "cell_type": "markdown",
   "id": "68a34884",
   "metadata": {},
   "source": [
    "#### Start at (4, 1) ((3, 0) in the slides)"
   ]
  },
  {
   "cell_type": "code",
   "execution_count": 22,
   "id": "d590d0ac",
   "metadata": {},
   "outputs": [
    {
     "data": {
      "text/plain": [
       "[(4, 1), (5, 2), (6, 3), (6, 4), (6, 5), (6, 6), (5, 7), (4, 8)]"
      ]
     },
     "execution_count": 22,
     "metadata": {},
     "output_type": "execute_result"
    }
   ],
   "source": [
    "path = [(4, 1)]\n",
    "s = (4, 1)\n",
    "while s != (4, 8) and s != (1, 10):\n",
    "    k = np.argmax([q[s, a] for a in A_names])\n",
    "    s = A[k](s)\n",
    "    path.append(s)\n",
    "\n",
    "path"
   ]
  },
  {
   "cell_type": "markdown",
   "id": "141d9126",
   "metadata": {},
   "source": [
    "#### Start at (1, 8) ((0, 7) in the slides)"
   ]
  },
  {
   "cell_type": "code",
   "execution_count": 23,
   "id": "219b39fd",
   "metadata": {},
   "outputs": [
    {
     "data": {
      "text/plain": [
       "[(1, 8), (1, 9), (2, 10), (3, 10), (4, 10), (5, 10), (5, 9), (4, 8)]"
      ]
     },
     "execution_count": 23,
     "metadata": {},
     "output_type": "execute_result"
    }
   ],
   "source": [
    "path = [(1, 8)]\n",
    "s = (1, 8)\n",
    "while s != (4, 8) and s != (1, 10):\n",
    "    k = np.argmax([q[s, a] for a in A_names])\n",
    "    s = A[k](s)\n",
    "    path.append(s)\n",
    "\n",
    "path"
   ]
  },
  {
   "cell_type": "markdown",
   "id": "9103244b",
   "metadata": {},
   "source": [
    "## Question 1.2 (without diagonal moves)\n",
    "### Set up the environment:"
   ]
  },
  {
   "cell_type": "code",
   "execution_count": 3,
   "id": "2ec672ab",
   "metadata": {},
   "outputs": [],
   "source": [
    "def idx(t):\n",
    "    if t == 'u':\n",
    "        return 0\n",
    "    elif t == 'd':\n",
    "        return 1\n",
    "    elif t == 'l':\n",
    "        return 2\n",
    "    elif t == 'r':\n",
    "        return 3     \n",
    "\n",
    "    \n",
    "def u(s):\n",
    "    if s == (4, 8):\n",
    "        return s\n",
    "    \n",
    "    elif s == (1, 10):\n",
    "        return s\n",
    "    \n",
    "    elif s[1] in [4, 5, 6, 9] and s[0] > 2:\n",
    "            return (s[0] - 2, s[1])\n",
    "        \n",
    "    elif s[1] in [7, 8] and s[0] > 3:\n",
    "            return (s[0] - 3, s[1])\n",
    "        \n",
    "    elif s[1] in [7, 8] and s[0] > 2:\n",
    "            return (s[0] - 2, s[1])\n",
    "         \n",
    "    elif s[0] > 1:\n",
    "        return (s[0] - 1, s[1])\n",
    "    \n",
    "    else:   \n",
    "        return s\n",
    "\n",
    "    \n",
    "def d(s):\n",
    "    if s == (4, 8):\n",
    "        return s\n",
    "    \n",
    "    elif s == (1, 10):\n",
    "        return s\n",
    "        \n",
    "    elif s[1] in [4, 5, 6, 9]:\n",
    "            return s\n",
    "        \n",
    "    elif s[1] in [7, 8] and s[0] > 1:\n",
    "            return (s[0] - 1, s[1])\n",
    "        \n",
    "    elif s[1] in [7, 8] and s[0] == 1:\n",
    "            return s\n",
    "        \n",
    "    elif s[0] < 7:\n",
    "        return (s[0] + 1, s[1])\n",
    "    \n",
    "    else:   \n",
    "        return s\n",
    "\n",
    "    \n",
    "def l(s):\n",
    "    if s == (4, 8):\n",
    "        return s\n",
    "\n",
    "    elif s == (1, 10):\n",
    "        return s\n",
    "    \n",
    "    elif s[1] in [5, 6, 7, 10] and s[0] > 1:\n",
    "            return (s[0] - 1, s[1] - 1)\n",
    "        \n",
    "    elif s[1] in [8, 9] and s[0] > 2:\n",
    "            return (s[0] - 2, s[1] - 1)\n",
    "        \n",
    "    elif s[1] in [8, 9] and s[0] > 1:\n",
    "            return (s[0] - 1, s[1] - 1)\n",
    "        \n",
    "    elif s[1] > 1:\n",
    "        return (s[0], s[1] - 1)\n",
    "    \n",
    "    else:   \n",
    "        return s\n",
    "\n",
    "    \n",
    "def r(s):\n",
    "    if s == (4, 8):\n",
    "        return s\n",
    "\n",
    "    elif s == (1, 10):\n",
    "        return s\n",
    "        \n",
    "    elif s[1] in [3, 4, 5, 8] and s[0] > 1:\n",
    "            return (s[0] - 1, s[1] + 1)   \n",
    "        \n",
    "    elif s[1] in [6, 7] and s[0] > 2:\n",
    "            return (s[0] - 2, s[1] + 1)\n",
    "        \n",
    "    elif s[1] in [6, 7] and s[0] > 1:\n",
    "            return (s[0] - 1, s[1] - 1)\n",
    "        \n",
    "    elif s[1] < 10:\n",
    "        return (s[0], s[1] + 1)\n",
    "    \n",
    "    else:   \n",
    "        return s"
   ]
  },
  {
   "cell_type": "code",
   "execution_count": 4,
   "id": "3cf4931e",
   "metadata": {},
   "outputs": [],
   "source": [
    "A = [u, d, l, r]\n",
    "A_names = ['u', 'd', 'l', 'r']\n",
    "\n",
    "\n",
    "def random_action():\n",
    "    a = np.random.choice(A_names)\n",
    "    return a"
   ]
  },
  {
   "cell_type": "code",
   "execution_count": 5,
   "id": "072b6821",
   "metadata": {},
   "outputs": [],
   "source": [
    "def reward(s,a):\n",
    "    \n",
    "    x = idx(a)\n",
    "    s_prime = A[x](s)\n",
    "    if s_prime == (4, 8):\n",
    "        return 10    \n",
    "    elif s_prime == (1, 10):\n",
    "        return -100\n",
    "    else: \n",
    "        return -1"
   ]
  },
  {
   "cell_type": "code",
   "execution_count": 6,
   "id": "bba7e0e1",
   "metadata": {},
   "outputs": [],
   "source": [
    "q = {(s, a):0  for s in S for a in A_names}\n",
    "q[((4, 8), None)] = 0\n",
    "q[((1, 10), None)] = 0"
   ]
  },
  {
   "cell_type": "markdown",
   "id": "9eb0ecf2",
   "metadata": {},
   "source": [
    "### Greedy SARAR"
   ]
  },
  {
   "cell_type": "code",
   "execution_count": 7,
   "id": "b1140dca",
   "metadata": {},
   "outputs": [],
   "source": [
    "def reward(s,a):\n",
    "    \n",
    "    x = idx(a)\n",
    "    s_prime = A[x](s)\n",
    "    if s_prime == (4, 8):\n",
    "        return 10    \n",
    "    elif s_prime == (1, 10):\n",
    "        return -100\n",
    "    else: \n",
    "        return -1"
   ]
  },
  {
   "cell_type": "code",
   "execution_count": 8,
   "id": "40bce4f4",
   "metadata": {},
   "outputs": [],
   "source": [
    "def greedy_sarsa(s,a,q):\n",
    "    if s == (4, 8):\n",
    "            return (s, a, 0, s, None)\n",
    "    if s == (1, 10):\n",
    "            return (s, a, 0, s, None)\n",
    "    else:\n",
    "        x = idx(a)\n",
    "        s_prime = A[x](s)\n",
    "        if s_prime == (4, 8):\n",
    "            return (s, a, 10, s_prime, None)\n",
    "        r = reward(s, a)\n",
    "        a_prime = A_names[np.argmax([q[s_prime, a] for a in A_names])]\n",
    "        return (s, a, r, s_prime, a_prime)"
   ]
  },
  {
   "cell_type": "code",
   "execution_count": 9,
   "id": "022b850a",
   "metadata": {},
   "outputs": [],
   "source": [
    "alpha = 0.01\n",
    "\n",
    "for _ in range(100000):\n",
    "    s = random_state()   \n",
    "    a = np.random.choice(A_names)\n",
    "        \n",
    "    while s != (4, 8) and s !=(1, 10):\n",
    "        (s, a, r, s_prime, a_prime) = greedy_sarsa(s, a, q)\n",
    "        q[s,a] = q[s,a] + alpha * (r + q[s_prime, a_prime] - q[s, a])\n",
    "        (s, a) = (s_prime, a_prime)"
   ]
  },
  {
   "cell_type": "code",
   "execution_count": 10,
   "id": "3cd48183",
   "metadata": {},
   "outputs": [
    {
     "data": {
      "text/plain": [
       "[((1, 1), 'r'),\n",
       " ((1, 2), 'r'),\n",
       " ((1, 3), 'r'),\n",
       " ((1, 4), 'r'),\n",
       " ((1, 5), 'r'),\n",
       " ((1, 6), 'r'),\n",
       " ((1, 7), 'r'),\n",
       " ((1, 8), 'r'),\n",
       " ((1, 9), 'r'),\n",
       " ((1, 10), 'u'),\n",
       " ((2, 1), 'r'),\n",
       " ((2, 2), 'r'),\n",
       " ((2, 3), 'r'),\n",
       " ((2, 4), 'r'),\n",
       " ((2, 5), 'r'),\n",
       " ((2, 6), 'u'),\n",
       " ((2, 7), 'u'),\n",
       " ((2, 8), 'r'),\n",
       " ((2, 9), 'r'),\n",
       " ((2, 10), 'd'),\n",
       " ((3, 1), 'r'),\n",
       " ((3, 2), 'r'),\n",
       " ((3, 3), 'r'),\n",
       " ((3, 4), 'r'),\n",
       " ((3, 5), 'u'),\n",
       " ((3, 6), 'r'),\n",
       " ((3, 7), 'r'),\n",
       " ((3, 8), 'r'),\n",
       " ((3, 9), 'r'),\n",
       " ((3, 10), 'd'),\n",
       " ((4, 1), 'r'),\n",
       " ((4, 2), 'r'),\n",
       " ((4, 3), 'r'),\n",
       " ((4, 4), 'r'),\n",
       " ((4, 5), 'r'),\n",
       " ((4, 6), 'r'),\n",
       " ((4, 7), 'r'),\n",
       " ((4, 8), 'u'),\n",
       " ((4, 9), 'r'),\n",
       " ((4, 10), 'd'),\n",
       " ((5, 1), 'u'),\n",
       " ((5, 2), 'd'),\n",
       " ((5, 3), 'd'),\n",
       " ((5, 4), 'r'),\n",
       " ((5, 5), 'r'),\n",
       " ((5, 6), 'r'),\n",
       " ((5, 7), 'r'),\n",
       " ((5, 8), 'd'),\n",
       " ((5, 9), 'r'),\n",
       " ((5, 10), 'd'),\n",
       " ((6, 1), 'r'),\n",
       " ((6, 2), 'r'),\n",
       " ((6, 3), 'r'),\n",
       " ((6, 4), 'r'),\n",
       " ((6, 5), 'r'),\n",
       " ((6, 6), 'r'),\n",
       " ((6, 7), 'r'),\n",
       " ((6, 8), 'd'),\n",
       " ((6, 9), 'l'),\n",
       " ((6, 10), 'd'),\n",
       " ((7, 1), 'u'),\n",
       " ((7, 2), 'u'),\n",
       " ((7, 3), 'u'),\n",
       " ((7, 4), 'r'),\n",
       " ((7, 5), 'r'),\n",
       " ((7, 6), 'r'),\n",
       " ((7, 7), 'r'),\n",
       " ((7, 8), 'u'),\n",
       " ((7, 9), 'l'),\n",
       " ((7, 10), 'l')]"
      ]
     },
     "execution_count": 10,
     "metadata": {},
     "output_type": "execute_result"
    }
   ],
   "source": [
    "optimal_actions = [ (s, A_names[np.argmax([q[s, a] for a in A_names])]) for s in S]\n",
    "optimal_actions"
   ]
  },
  {
   "cell_type": "markdown",
   "id": "dc235a7d",
   "metadata": {},
   "source": [
    "#### Start at (7, 1) ((6, 0) in the slides)"
   ]
  },
  {
   "cell_type": "code",
   "execution_count": 11,
   "id": "9d605616",
   "metadata": {},
   "outputs": [
    {
     "data": {
      "text/plain": [
       "[(7, 1),\n",
       " (6, 1),\n",
       " (6, 2),\n",
       " (6, 3),\n",
       " (5, 4),\n",
       " (4, 5),\n",
       " (3, 6),\n",
       " (1, 7),\n",
       " (1, 8),\n",
       " (1, 9),\n",
       " (1, 10)]"
      ]
     },
     "execution_count": 11,
     "metadata": {},
     "output_type": "execute_result"
    }
   ],
   "source": [
    "path = [(7, 1)]\n",
    "s = (7, 1)\n",
    "while s != (4, 8) and s != (1, 10):\n",
    "    k = np.argmax([q[s, a] for a in A_names])\n",
    "    s = A[k](s)\n",
    "    path.append(s)\n",
    "\n",
    "path"
   ]
  },
  {
   "cell_type": "markdown",
   "id": "0adba99e",
   "metadata": {},
   "source": [
    "#### Start at (4, 1) ((3, 0) in the slides)"
   ]
  },
  {
   "cell_type": "code",
   "execution_count": 12,
   "id": "168669ba",
   "metadata": {},
   "outputs": [
    {
     "data": {
      "text/plain": [
       "[(4, 1),\n",
       " (4, 2),\n",
       " (4, 3),\n",
       " (3, 4),\n",
       " (2, 5),\n",
       " (1, 6),\n",
       " (1, 7),\n",
       " (1, 8),\n",
       " (1, 9),\n",
       " (1, 10)]"
      ]
     },
     "execution_count": 12,
     "metadata": {},
     "output_type": "execute_result"
    }
   ],
   "source": [
    "path = [(4, 1)]\n",
    "s = (4, 1)\n",
    "while s != (4, 8) and s != (1, 10):\n",
    "    k = np.argmax([q[s, a] for a in A_names])\n",
    "    s = A[k](s)\n",
    "    path.append(s)\n",
    "\n",
    "path"
   ]
  },
  {
   "cell_type": "markdown",
   "id": "5b54838b",
   "metadata": {},
   "source": [
    "#### Start at (1, 8) ((0, 7) in the slides)"
   ]
  },
  {
   "cell_type": "code",
   "execution_count": 13,
   "id": "76670321",
   "metadata": {},
   "outputs": [
    {
     "data": {
      "text/plain": [
       "[(1, 8), (1, 9), (1, 10)]"
      ]
     },
     "execution_count": 13,
     "metadata": {},
     "output_type": "execute_result"
    }
   ],
   "source": [
    "path = [(1, 8)]\n",
    "s = (1, 8)\n",
    "while s != (4, 8) and s != (1, 10):\n",
    "    k = np.argmax([q[s, a] for a in A_names])\n",
    "    s = A[k](s)\n",
    "    path.append(s)\n",
    "\n",
    "path"
   ]
  },
  {
   "cell_type": "markdown",
   "id": "cef867b7",
   "metadata": {},
   "source": [
    "### $\\varepsilon$-Greedy SARSA"
   ]
  },
  {
   "cell_type": "code",
   "execution_count": 14,
   "id": "b50a0085",
   "metadata": {},
   "outputs": [],
   "source": [
    "eps = 0.1"
   ]
  },
  {
   "cell_type": "code",
   "execution_count": 15,
   "id": "67ef2d3c",
   "metadata": {},
   "outputs": [],
   "source": [
    "for k in range(1,100000):\n",
    "    \n",
    "    s = random_state()  \n",
    "    a = np.random.choice(A_names)\n",
    "        \n",
    "    while s != (4,8) and s != (1, 10):        \n",
    "        (s, a, r, s_prime, a_prime) = greedy_sarsa(s, a, q)\n",
    "        u = np.random.random()\n",
    "        if u < eps/k:\n",
    "            a_prime = np.random.choice(A_names)\n",
    "                        \n",
    "        q[s, a] = q[s, a] + alpha * (r + q[s_prime, a_prime] - q[s, a])\n",
    "        (s, a) = (s_prime, a_prime)"
   ]
  },
  {
   "cell_type": "code",
   "execution_count": 16,
   "id": "e8070973",
   "metadata": {},
   "outputs": [
    {
     "data": {
      "text/plain": [
       "[((1, 1), 'r'),\n",
       " ((1, 2), 'r'),\n",
       " ((1, 3), 'r'),\n",
       " ((1, 4), 'r'),\n",
       " ((1, 5), 'r'),\n",
       " ((1, 6), 'r'),\n",
       " ((1, 7), 'r'),\n",
       " ((1, 8), 'r'),\n",
       " ((1, 9), 'r'),\n",
       " ((1, 10), 'u'),\n",
       " ((2, 1), 'r'),\n",
       " ((2, 2), 'r'),\n",
       " ((2, 3), 'r'),\n",
       " ((2, 4), 'r'),\n",
       " ((2, 5), 'r'),\n",
       " ((2, 6), 'u'),\n",
       " ((2, 7), 'u'),\n",
       " ((2, 8), 'r'),\n",
       " ((2, 9), 'r'),\n",
       " ((2, 10), 'd'),\n",
       " ((3, 1), 'r'),\n",
       " ((3, 2), 'r'),\n",
       " ((3, 3), 'r'),\n",
       " ((3, 4), 'r'),\n",
       " ((3, 5), 'u'),\n",
       " ((3, 6), 'r'),\n",
       " ((3, 7), 'r'),\n",
       " ((3, 8), 'r'),\n",
       " ((3, 9), 'r'),\n",
       " ((3, 10), 'd'),\n",
       " ((4, 1), 'r'),\n",
       " ((4, 2), 'r'),\n",
       " ((4, 3), 'r'),\n",
       " ((4, 4), 'r'),\n",
       " ((4, 5), 'r'),\n",
       " ((4, 6), 'r'),\n",
       " ((4, 7), 'r'),\n",
       " ((4, 8), 'u'),\n",
       " ((4, 9), 'r'),\n",
       " ((4, 10), 'd'),\n",
       " ((5, 1), 'u'),\n",
       " ((5, 2), 'r'),\n",
       " ((5, 3), 'd'),\n",
       " ((5, 4), 'r'),\n",
       " ((5, 5), 'r'),\n",
       " ((5, 6), 'r'),\n",
       " ((5, 7), 'r'),\n",
       " ((5, 8), 'd'),\n",
       " ((5, 9), 'r'),\n",
       " ((5, 10), 'd'),\n",
       " ((6, 1), 'r'),\n",
       " ((6, 2), 'r'),\n",
       " ((6, 3), 'r'),\n",
       " ((6, 4), 'r'),\n",
       " ((6, 5), 'r'),\n",
       " ((6, 6), 'r'),\n",
       " ((6, 7), 'r'),\n",
       " ((6, 8), 'd'),\n",
       " ((6, 9), 'l'),\n",
       " ((6, 10), 'd'),\n",
       " ((7, 1), 'r'),\n",
       " ((7, 2), 'u'),\n",
       " ((7, 3), 'u'),\n",
       " ((7, 4), 'r'),\n",
       " ((7, 5), 'r'),\n",
       " ((7, 6), 'r'),\n",
       " ((7, 7), 'r'),\n",
       " ((7, 8), 'u'),\n",
       " ((7, 9), 'l'),\n",
       " ((7, 10), 'l')]"
      ]
     },
     "execution_count": 16,
     "metadata": {},
     "output_type": "execute_result"
    }
   ],
   "source": [
    "optimal_actions = [ (s, A_names[np.argmax([q[s, a] for a in A_names])]) for s in S]\n",
    "optimal_actions"
   ]
  },
  {
   "cell_type": "markdown",
   "id": "2c8adc71",
   "metadata": {},
   "source": [
    "#### Start at (7, 1) ((6, 0) in the slides)"
   ]
  },
  {
   "cell_type": "code",
   "execution_count": 17,
   "id": "2e35c787",
   "metadata": {},
   "outputs": [
    {
     "data": {
      "text/plain": [
       "[(7, 1),\n",
       " (7, 2),\n",
       " (6, 2),\n",
       " (6, 3),\n",
       " (5, 4),\n",
       " (4, 5),\n",
       " (3, 6),\n",
       " (1, 7),\n",
       " (1, 8),\n",
       " (1, 9),\n",
       " (1, 10)]"
      ]
     },
     "execution_count": 17,
     "metadata": {},
     "output_type": "execute_result"
    }
   ],
   "source": [
    "path = [(7, 1)]\n",
    "s = (7, 1)\n",
    "while s != (4, 8) and s != (1, 10):\n",
    "    k = np.argmax([q[s, a] for a in A_names])\n",
    "    s = A[k](s)\n",
    "    path.append(s)\n",
    "\n",
    "path"
   ]
  },
  {
   "cell_type": "markdown",
   "id": "bd6379a7",
   "metadata": {},
   "source": [
    "#### Start at (4, 1) ((3, 0) in the slides)"
   ]
  },
  {
   "cell_type": "code",
   "execution_count": 18,
   "id": "ba223336",
   "metadata": {},
   "outputs": [
    {
     "data": {
      "text/plain": [
       "[(4, 1),\n",
       " (4, 2),\n",
       " (4, 3),\n",
       " (3, 4),\n",
       " (2, 5),\n",
       " (1, 6),\n",
       " (1, 7),\n",
       " (1, 8),\n",
       " (1, 9),\n",
       " (1, 10)]"
      ]
     },
     "execution_count": 18,
     "metadata": {},
     "output_type": "execute_result"
    }
   ],
   "source": [
    "path = [(4, 1)]\n",
    "s = (4, 1)\n",
    "while s != (4, 8) and s != (1, 10):\n",
    "    k = np.argmax([q[s, a] for a in A_names])\n",
    "    s = A[k](s)\n",
    "    path.append(s)\n",
    "\n",
    "path"
   ]
  },
  {
   "cell_type": "markdown",
   "id": "e0f4d180",
   "metadata": {},
   "source": [
    "#### Start at (1, 8) ((0, 7) in the slides)"
   ]
  },
  {
   "cell_type": "code",
   "execution_count": 19,
   "id": "23a0132c",
   "metadata": {},
   "outputs": [
    {
     "data": {
      "text/plain": [
       "[(1, 8), (1, 9), (1, 10)]"
      ]
     },
     "execution_count": 19,
     "metadata": {},
     "output_type": "execute_result"
    }
   ],
   "source": [
    "path = [(1, 8)]\n",
    "s = (1, 8)\n",
    "while s != (4, 8) and s != (1, 10):\n",
    "    k = np.argmax([q[s, a] for a in A_names])\n",
    "    s = A[k](s)\n",
    "    path.append(s)\n",
    "\n",
    "path"
   ]
  },
  {
   "cell_type": "markdown",
   "id": "f0e030e8",
   "metadata": {},
   "source": [
    "### Q-learning "
   ]
  },
  {
   "cell_type": "code",
   "execution_count": 20,
   "id": "8304fc4e",
   "metadata": {},
   "outputs": [],
   "source": [
    "for k in range(1,10000):\n",
    "    \n",
    "    s = random_state()    \n",
    "    \n",
    "    while s != (4,8) and s != (1, 10):\n",
    "       \n",
    "        a = A_names[np.argmax([ q[s,a] for a in A_names])]\n",
    "\n",
    "        u = np.random.random()\n",
    "        if u < eps/k:\n",
    "            a = np.random.choice(A_names)\n",
    "        \n",
    "        \n",
    "        s_prime = A[idx(a)](s)\n",
    "        \n",
    "        q[s, a] = q[s, a] + alpha * ((reward(s, a) + np.max([q[s_prime, a] for a in A_names]) - q[s, a]))\n",
    "\n",
    "        s = s_prime"
   ]
  },
  {
   "cell_type": "code",
   "execution_count": 21,
   "id": "5fd194e0",
   "metadata": {},
   "outputs": [
    {
     "data": {
      "text/plain": [
       "[((1, 1), 'r'),\n",
       " ((1, 2), 'r'),\n",
       " ((1, 3), 'r'),\n",
       " ((1, 4), 'r'),\n",
       " ((1, 5), 'r'),\n",
       " ((1, 6), 'r'),\n",
       " ((1, 7), 'r'),\n",
       " ((1, 8), 'r'),\n",
       " ((1, 9), 'r'),\n",
       " ((1, 10), 'u'),\n",
       " ((2, 1), 'r'),\n",
       " ((2, 2), 'r'),\n",
       " ((2, 3), 'r'),\n",
       " ((2, 4), 'r'),\n",
       " ((2, 5), 'r'),\n",
       " ((2, 6), 'u'),\n",
       " ((2, 7), 'u'),\n",
       " ((2, 8), 'r'),\n",
       " ((2, 9), 'r'),\n",
       " ((2, 10), 'd'),\n",
       " ((3, 1), 'r'),\n",
       " ((3, 2), 'r'),\n",
       " ((3, 3), 'r'),\n",
       " ((3, 4), 'r'),\n",
       " ((3, 5), 'u'),\n",
       " ((3, 6), 'r'),\n",
       " ((3, 7), 'r'),\n",
       " ((3, 8), 'r'),\n",
       " ((3, 9), 'r'),\n",
       " ((3, 10), 'd'),\n",
       " ((4, 1), 'r'),\n",
       " ((4, 2), 'r'),\n",
       " ((4, 3), 'r'),\n",
       " ((4, 4), 'r'),\n",
       " ((4, 5), 'r'),\n",
       " ((4, 6), 'r'),\n",
       " ((4, 7), 'r'),\n",
       " ((4, 8), 'u'),\n",
       " ((4, 9), 'r'),\n",
       " ((4, 10), 'd'),\n",
       " ((5, 1), 'r'),\n",
       " ((5, 2), 'r'),\n",
       " ((5, 3), 'd'),\n",
       " ((5, 4), 'r'),\n",
       " ((5, 5), 'r'),\n",
       " ((5, 6), 'r'),\n",
       " ((5, 7), 'r'),\n",
       " ((5, 8), 'd'),\n",
       " ((5, 9), 'r'),\n",
       " ((5, 10), 'd'),\n",
       " ((6, 1), 'r'),\n",
       " ((6, 2), 'r'),\n",
       " ((6, 3), 'r'),\n",
       " ((6, 4), 'r'),\n",
       " ((6, 5), 'r'),\n",
       " ((6, 6), 'r'),\n",
       " ((6, 7), 'r'),\n",
       " ((6, 8), 'd'),\n",
       " ((6, 9), 'l'),\n",
       " ((6, 10), 'd'),\n",
       " ((7, 1), 'r'),\n",
       " ((7, 2), 'u'),\n",
       " ((7, 3), 'u'),\n",
       " ((7, 4), 'r'),\n",
       " ((7, 5), 'r'),\n",
       " ((7, 6), 'r'),\n",
       " ((7, 7), 'r'),\n",
       " ((7, 8), 'u'),\n",
       " ((7, 9), 'l'),\n",
       " ((7, 10), 'l')]"
      ]
     },
     "execution_count": 21,
     "metadata": {},
     "output_type": "execute_result"
    }
   ],
   "source": [
    "optimal_actions = [ (s, A_names[np.argmax([q[s, a] for a in A_names])]) for s in S]\n",
    "optimal_actions"
   ]
  },
  {
   "cell_type": "markdown",
   "id": "2097495b",
   "metadata": {},
   "source": [
    "#### Start at (7, 1) ((6, 0) in the slides)"
   ]
  },
  {
   "cell_type": "code",
   "execution_count": 22,
   "id": "473aedaa",
   "metadata": {},
   "outputs": [
    {
     "data": {
      "text/plain": [
       "[(7, 1),\n",
       " (7, 2),\n",
       " (6, 2),\n",
       " (6, 3),\n",
       " (5, 4),\n",
       " (4, 5),\n",
       " (3, 6),\n",
       " (1, 7),\n",
       " (1, 8),\n",
       " (1, 9),\n",
       " (1, 10)]"
      ]
     },
     "execution_count": 22,
     "metadata": {},
     "output_type": "execute_result"
    }
   ],
   "source": [
    "path = [(7, 1)]\n",
    "s = (7, 1)\n",
    "while s != (4, 8) and s != (1, 10):\n",
    "    k = np.argmax([q[s, a] for a in A_names])\n",
    "    s = A[k](s)\n",
    "    path.append(s)\n",
    "\n",
    "path"
   ]
  },
  {
   "cell_type": "markdown",
   "id": "cc042136",
   "metadata": {},
   "source": [
    "#### Start at (4, 1) ((3, 0) in the slides)"
   ]
  },
  {
   "cell_type": "code",
   "execution_count": 23,
   "id": "779f0cf3",
   "metadata": {},
   "outputs": [
    {
     "data": {
      "text/plain": [
       "[(4, 1),\n",
       " (4, 2),\n",
       " (4, 3),\n",
       " (3, 4),\n",
       " (2, 5),\n",
       " (1, 6),\n",
       " (1, 7),\n",
       " (1, 8),\n",
       " (1, 9),\n",
       " (1, 10)]"
      ]
     },
     "execution_count": 23,
     "metadata": {},
     "output_type": "execute_result"
    }
   ],
   "source": [
    "path = [(4, 1)]\n",
    "s = (4, 1)\n",
    "while s != (4, 8) and s != (1, 10):\n",
    "    k = np.argmax([q[s, a] for a in A_names])\n",
    "    s = A[k](s)\n",
    "    path.append(s)\n",
    "\n",
    "path"
   ]
  },
  {
   "cell_type": "markdown",
   "id": "4650f530",
   "metadata": {},
   "source": [
    "#### Start at (1, 8) ((0, 7) in the slides)"
   ]
  },
  {
   "cell_type": "code",
   "execution_count": 24,
   "id": "a9fb443c",
   "metadata": {},
   "outputs": [
    {
     "data": {
      "text/plain": [
       "[(1, 8), (1, 9), (1, 10)]"
      ]
     },
     "execution_count": 24,
     "metadata": {},
     "output_type": "execute_result"
    }
   ],
   "source": [
    "path = [(1, 8)]\n",
    "s = (1, 8)\n",
    "while s != (4, 8) and s != (1, 10):\n",
    "    k = np.argmax([q[s, a] for a in A_names])\n",
    "    s = A[k](s)\n",
    "    path.append(s)\n",
    "\n",
    "path"
   ]
  },
  {
   "cell_type": "markdown",
   "id": "839e470d",
   "metadata": {},
   "source": [
    "## Question 2"
   ]
  },
  {
   "cell_type": "code",
   "execution_count": 3,
   "id": "e7d672a7",
   "metadata": {},
   "outputs": [],
   "source": [
    "def idx(t):\n",
    "    if t == 'u':\n",
    "        return 0\n",
    "    elif t == 'd':\n",
    "        return 1\n",
    "    elif t == 'l':\n",
    "        return 2\n",
    "    elif t == 'r':\n",
    "        return 3    \n",
    "    elif t == 'ul':\n",
    "        return 4\n",
    "    elif t == 'ld':\n",
    "        return 5\n",
    "    elif t == 'dr':\n",
    "        return 6\n",
    "    elif t == 'ru':\n",
    "        return 7  \n",
    "\n",
    "    \n",
    "def u(s):\n",
    "    if s == (4, 8):\n",
    "        return s\n",
    "    \n",
    "    elif s == (1, 10):\n",
    "        return s\n",
    "    \n",
    "    elif s == (1, 4):\n",
    "        return s\n",
    "\n",
    "    elif s[1] in [4, 5, 6, 9] and s[0] > 2:\n",
    "            return (s[0] - 2, s[1])\n",
    "        \n",
    "    elif s[1] in [7, 8] and s[0] > 3:\n",
    "            return (s[0] - 3, s[1])\n",
    "        \n",
    "    elif s[1] in [7, 8] and s[0] > 2:\n",
    "            return (s[0] - 2, s[1])\n",
    "         \n",
    "    elif s[0] > 1:\n",
    "        return (s[0] - 1, s[1])\n",
    "    \n",
    "    else:   \n",
    "        return s\n",
    "\n",
    "    \n",
    "def d(s):\n",
    "    if s == (4, 8):\n",
    "        return s\n",
    "    \n",
    "    elif s == (1, 10):\n",
    "        return s\n",
    "    \n",
    "    elif s == (1, 4):\n",
    "        return s\n",
    "        \n",
    "    elif s[1] in [4, 5, 6, 9]:\n",
    "            return s\n",
    "        \n",
    "    elif s[1] in [7, 8] and s[0] > 1:\n",
    "            return (s[0] - 1, s[1])\n",
    "        \n",
    "    elif s[1] in [7, 8] and s[0] == 1:\n",
    "            return s\n",
    "        \n",
    "    elif s[0] < 7:\n",
    "        return (s[0] + 1, s[1])\n",
    "    \n",
    "    else:   \n",
    "        return s\n",
    "\n",
    "    \n",
    "def l(s):\n",
    "    if s == (4, 8):\n",
    "        return s\n",
    "\n",
    "    elif s == (1, 10):\n",
    "        return s\n",
    "    \n",
    "    elif s == (1, 4):\n",
    "        return s\n",
    "    \n",
    "    elif s[1] in [5, 6, 7, 10] and s[0] > 1:\n",
    "            return (s[0] - 1, s[1] - 1)\n",
    "        \n",
    "    elif s[1] in [8, 9] and s[0] > 2:\n",
    "            return (s[0] - 2, s[1] - 1)\n",
    "        \n",
    "    elif s[1] in [8, 9] and s[0] > 1:\n",
    "            return (s[0] - 1, s[1] - 1)\n",
    "        \n",
    "    elif s[1] > 1:\n",
    "        return (s[0], s[1] - 1)\n",
    "    \n",
    "    else:   \n",
    "        return s\n",
    "\n",
    "    \n",
    "def r(s):\n",
    "    if s == (4, 8):\n",
    "        return s\n",
    "\n",
    "    elif s == (1, 10):\n",
    "        return s\n",
    "    \n",
    "    elif s == (1, 4):\n",
    "        return s\n",
    "        \n",
    "    elif s[1] in [3, 4, 5, 8] and s[0] > 1:\n",
    "            return (s[0] - 1, s[1] + 1)   \n",
    "        \n",
    "    elif s[1] in [6, 7] and s[0] > 2:\n",
    "            return (s[0] - 2, s[1] + 1)\n",
    "        \n",
    "    elif s[1] in [6, 7] and s[0] > 1:\n",
    "            return (s[0] - 1, s[1] - 1)\n",
    "        \n",
    "    elif s[1] < 10:\n",
    "        return (s[0], s[1] + 1)\n",
    "    \n",
    "    else:   \n",
    "        return s\n",
    "\n",
    "    \n",
    "def ul(s):\n",
    "    if s == (4, 8):\n",
    "        return s\n",
    "    \n",
    "    elif s == (1, 10):\n",
    "        return s\n",
    "    \n",
    "    elif s == (1, 4):\n",
    "        return s\n",
    "        \n",
    "    elif s[1] in [5, 6, 7, 10] and s[0] > 2:\n",
    "            return (s[0] - 2, s[1] - 1)\n",
    "        \n",
    "    elif s[1] in [8, 9] and s[0] > 3:\n",
    "            return (s[0] - 3, s[1] - 1)\n",
    "        \n",
    "    elif s[1] in [8, 9] and s[0] > 2:\n",
    "            return (s[0] - 2, s[1] - 1)\n",
    "         \n",
    "    elif s[1] > 1 and s[0] > 1:\n",
    "        return (s[0] - 1, s[1] - 1)\n",
    "    \n",
    "    elif s[1] > 1:\n",
    "        return (s[0], s[1] - 1)\n",
    "    \n",
    "    elif s[0] > 1: \n",
    "        return (s[0] - 1, s[1])\n",
    "    \n",
    "    else:   \n",
    "        return s    \n",
    "\n",
    "    \n",
    "def ld(s):\n",
    "    if s == (4, 8):\n",
    "        return s\n",
    "    \n",
    "    elif s == (1, 10):\n",
    "        return s\n",
    "    \n",
    "    elif s == (1, 4):\n",
    "        return s\n",
    "        \n",
    "    elif s[1] in [5, 6, 7, 10]:\n",
    "            return (s[0], s[1] - 1)\n",
    "        \n",
    "    elif s[1] in [8, 9] and s[0] > 1:\n",
    "            return (s[0] - 1, s[1] - 1)\n",
    "        \n",
    "    elif s[1] in [8, 9] and s[0] == 1:\n",
    "            return (s[0], s[1] - 1)\n",
    "        \n",
    "    elif s[1] > 1 and s[0] < 7:\n",
    "        return (s[0] + 1, s[1] - 1)\n",
    "    \n",
    "    elif s[1] > 1:\n",
    "        return (s[0], s[1] - 1)\n",
    "    \n",
    "    elif s[0] < 7: \n",
    "        return (s[0] + 1, s[1])\n",
    "    \n",
    "    else:   \n",
    "        return s \n",
    "\n",
    "    \n",
    "def dr(s):\n",
    "    if s == (4, 8):\n",
    "        return s\n",
    "    \n",
    "    elif s == (1, 10):\n",
    "        return s\n",
    "    \n",
    "    elif s == (1, 4):\n",
    "        return s\n",
    "        \n",
    "    elif s[1] in [3, 4, 5, 8]:\n",
    "            return (s[0], s[1] + 1)\n",
    "        \n",
    "    elif s[1] in [6, 7] and s[0] > 1:\n",
    "            return (s[0] - 1, s[1] + 1)\n",
    "        \n",
    "    elif s[1] in [6, 7] and s[0] == 1:\n",
    "            return (s[0], s[1] + 1)        \n",
    "         \n",
    "    elif s[0] < 7 and s[1] < 10:\n",
    "        return (s[0] + 1, s[1] + 1)\n",
    "    \n",
    "    elif s[1] < 10:\n",
    "        return (s[0], s[1] + 1)\n",
    "    \n",
    "    elif s[0] < 7: \n",
    "        return (s[0] + 1, s[1])\n",
    "    \n",
    "    else:   \n",
    "        return s \n",
    "    \n",
    "\n",
    "def ru(s):\n",
    "    if s == (4, 8):\n",
    "        return s\n",
    "    \n",
    "    elif s == (1, 10):\n",
    "        return s\n",
    "    \n",
    "    elif s == (1, 4):\n",
    "        return s\n",
    "        \n",
    "    elif s[1] in [3, 4, 5, 8] and s[0] > 2:\n",
    "            return (s[0] - 2, s[1] + 1)\n",
    "        \n",
    "    elif s[1] in [6, 7] and s[0] > 3:\n",
    "            return (s[0] - 3, s[1] + 1)\n",
    "        \n",
    "    elif s[1] in [6, 7] and s[0] > 2:\n",
    "            return (s[0] - 2, s[1] + 1)\n",
    "         \n",
    "    elif s[0] > 1 and s[1] < 10:\n",
    "        return (s[0] - 1, s[1] + 1)\n",
    "    \n",
    "    elif s[1] < 10:\n",
    "        return (s[0], s[1] + 1)\n",
    "    \n",
    "    elif s[0] > 1: \n",
    "        return (s[0] - 1, s[1])\n",
    "    \n",
    "    else:   \n",
    "        return s"
   ]
  },
  {
   "cell_type": "code",
   "execution_count": 4,
   "id": "e9f49697",
   "metadata": {},
   "outputs": [],
   "source": [
    "A = [u, d, l, r, ul, ld, dr, ru]\n",
    "A_names = ['u', 'd', 'l', 'r', 'ul', 'ld', 'dr', 'ru']\n",
    "\n",
    "\n",
    "def random_action():\n",
    "    a = np.random.choice(A_names)\n",
    "    return a"
   ]
  },
  {
   "cell_type": "code",
   "execution_count": 5,
   "id": "f9af5d18",
   "metadata": {},
   "outputs": [],
   "source": [
    "def reward(s,a):\n",
    "    \n",
    "    x = idx(a)\n",
    "    s_prime = A[x](s)\n",
    "    if s_prime == (4, 8):\n",
    "        return 10    \n",
    "    elif s_prime == (1, 10):\n",
    "        return -100\n",
    "    elif s_prime == (1, 4):\n",
    "        return 5    \n",
    "    else: \n",
    "        return -1"
   ]
  },
  {
   "cell_type": "code",
   "execution_count": 6,
   "id": "a0c40552",
   "metadata": {},
   "outputs": [],
   "source": [
    "q = {(s, a):0  for s in S for a in A_names}\n",
    "q[((4, 8), None)] = 0\n",
    "q[((1, 10), None)] = 0\n",
    "q[((1, 4), None)] = 0"
   ]
  },
  {
   "cell_type": "markdown",
   "id": "e303125b",
   "metadata": {},
   "source": [
    "### Greedy SARAR"
   ]
  },
  {
   "cell_type": "code",
   "execution_count": 7,
   "id": "9e14bb20",
   "metadata": {},
   "outputs": [],
   "source": [
    "def greedy_sarsa(s,a,q):\n",
    "    if s == (4, 8):\n",
    "            return (s, a, 0, s, None)\n",
    "    if s == (1, 10):\n",
    "            return (s, a, 0, s, None)\n",
    "    if s == (1, 4):\n",
    "            return (s, a, 0, s, None)        \n",
    "    else:\n",
    "        x = idx(a)\n",
    "        s_prime = A[x](s)\n",
    "        if s_prime == (4, 8):\n",
    "            return (s, a, 10, s_prime, None)\n",
    "        r = reward(s, a)\n",
    "        a_prime = A_names[np.argmax([q[s_prime, a] for a in A_names])]\n",
    "        return (s, a, r, s_prime, a_prime)"
   ]
  },
  {
   "cell_type": "code",
   "execution_count": 8,
   "id": "bf76443e",
   "metadata": {},
   "outputs": [],
   "source": [
    "alpha = 0.01\n",
    "\n",
    "for _ in range(100000):\n",
    "    s = random_state()   \n",
    "    a = np.random.choice(A_names)\n",
    "        \n",
    "    while s != (4, 8) and s !=(1, 10) and s !=(1, 4):\n",
    "        (s, a, r, s_prime, a_prime) = greedy_sarsa(s, a, q)\n",
    "        q[s,a] = q[s,a] + alpha * (r + q[s_prime, a_prime] - q[s, a])\n",
    "        (s, a) = (s_prime, a_prime)"
   ]
  },
  {
   "cell_type": "code",
   "execution_count": 9,
   "id": "30aac82e",
   "metadata": {},
   "outputs": [
    {
     "data": {
      "text/plain": [
       "[((1, 1), 'dr'),\n",
       " ((1, 2), 'ru'),\n",
       " ((1, 3), 'r'),\n",
       " ((1, 4), 'u'),\n",
       " ((1, 5), 'l'),\n",
       " ((1, 6), 'l'),\n",
       " ((1, 7), 'ld'),\n",
       " ((1, 8), 'r'),\n",
       " ((1, 9), 'dr'),\n",
       " ((1, 10), 'u'),\n",
       " ((2, 1), 'dr'),\n",
       " ((2, 2), 'dr'),\n",
       " ((2, 3), 'r'),\n",
       " ((2, 4), 'u'),\n",
       " ((2, 5), 'l'),\n",
       " ((2, 6), 'ul'),\n",
       " ((2, 7), 'l'),\n",
       " ((2, 8), 'dr'),\n",
       " ((2, 9), 'dr'),\n",
       " ((2, 10), 'dr'),\n",
       " ((3, 1), 'dr'),\n",
       " ((3, 2), 'r'),\n",
       " ((3, 3), 'ru'),\n",
       " ((3, 4), 'u'),\n",
       " ((3, 5), 'ul'),\n",
       " ((3, 6), 'ul'),\n",
       " ((3, 7), 'ul'),\n",
       " ((3, 8), 'dr'),\n",
       " ((3, 9), 'dr'),\n",
       " ((3, 10), 'd'),\n",
       " ((4, 1), 'r'),\n",
       " ((4, 2), 'ru'),\n",
       " ((4, 3), 'r'),\n",
       " ((4, 4), 'ul'),\n",
       " ((4, 5), 'l'),\n",
       " ((4, 6), 'l'),\n",
       " ((4, 7), 'dr'),\n",
       " ((4, 8), 'u'),\n",
       " ((4, 9), 'dr'),\n",
       " ((4, 10), 'd'),\n",
       " ((5, 1), 'ru'),\n",
       " ((5, 2), 'u'),\n",
       " ((5, 3), 'ru'),\n",
       " ((5, 4), 'u'),\n",
       " ((5, 5), 'ul'),\n",
       " ((5, 6), 'ul'),\n",
       " ((5, 7), 'dr'),\n",
       " ((5, 8), 'd'),\n",
       " ((5, 9), 'ld'),\n",
       " ((5, 10), 'ld'),\n",
       " ((6, 1), 'r'),\n",
       " ((6, 2), 'ru'),\n",
       " ((6, 3), 'u'),\n",
       " ((6, 4), 'dr'),\n",
       " ((6, 5), 'dr'),\n",
       " ((6, 6), 'dr'),\n",
       " ((6, 7), 'r'),\n",
       " ((6, 8), 'r'),\n",
       " ((6, 9), 'l'),\n",
       " ((6, 10), 'l'),\n",
       " ((7, 1), 'ru'),\n",
       " ((7, 2), 'u'),\n",
       " ((7, 3), 'ru'),\n",
       " ((7, 4), 'r'),\n",
       " ((7, 5), 'r'),\n",
       " ((7, 6), 'r'),\n",
       " ((7, 7), 'ru'),\n",
       " ((7, 8), 'u'),\n",
       " ((7, 9), 'ul'),\n",
       " ((7, 10), 'ul')]"
      ]
     },
     "execution_count": 9,
     "metadata": {},
     "output_type": "execute_result"
    }
   ],
   "source": [
    "optimal_actions = [ (s, A_names[np.argmax([q[s, a] for a in A_names])]) for s in S]\n",
    "optimal_actions"
   ]
  },
  {
   "cell_type": "markdown",
   "id": "a0d63bcb",
   "metadata": {},
   "source": [
    "#### Start at (7, 1) ((6, 0) in the slides)"
   ]
  },
  {
   "cell_type": "code",
   "execution_count": 10,
   "id": "9c9cd5d0",
   "metadata": {},
   "outputs": [
    {
     "data": {
      "text/plain": [
       "[(7, 1), (6, 2), (5, 3), (3, 4), (1, 4)]"
      ]
     },
     "execution_count": 10,
     "metadata": {},
     "output_type": "execute_result"
    }
   ],
   "source": [
    "path = [(7, 1)]\n",
    "s = (7, 1)\n",
    "while s != (4, 8) and s != (1, 10) and s !=(1, 4):\n",
    "    k = np.argmax([q[s, a] for a in A_names])\n",
    "    s = A[k](s)\n",
    "    path.append(s)\n",
    "\n",
    "path"
   ]
  },
  {
   "cell_type": "markdown",
   "id": "2a7200a8",
   "metadata": {},
   "source": [
    "#### Start at (4, 1) ((3, 0) in the slides)"
   ]
  },
  {
   "cell_type": "code",
   "execution_count": 11,
   "id": "97cb1bec",
   "metadata": {},
   "outputs": [
    {
     "data": {
      "text/plain": [
       "[(4, 1), (4, 2), (3, 3), (1, 4)]"
      ]
     },
     "execution_count": 11,
     "metadata": {},
     "output_type": "execute_result"
    }
   ],
   "source": [
    "path = [(4, 1)]\n",
    "s = (4, 1)\n",
    "while s != (4, 8) and s != (1, 10) and s !=(1, 4):\n",
    "    k = np.argmax([q[s, a] for a in A_names])\n",
    "    s = A[k](s)\n",
    "    path.append(s)\n",
    "\n",
    "path"
   ]
  },
  {
   "cell_type": "markdown",
   "id": "a1a4176b",
   "metadata": {},
   "source": [
    "#### Start at (1, 8) ((0, 7) in the slides)"
   ]
  },
  {
   "cell_type": "code",
   "execution_count": 12,
   "id": "10acb199",
   "metadata": {},
   "outputs": [
    {
     "data": {
      "text/plain": [
       "[(1, 8), (1, 9), (2, 10), (3, 10), (4, 10), (5, 10), (5, 9), (4, 8)]"
      ]
     },
     "execution_count": 12,
     "metadata": {},
     "output_type": "execute_result"
    }
   ],
   "source": [
    "path = [(1, 8)]\n",
    "s = (1, 8)\n",
    "while s != (4, 8) and s != (1, 10) and s !=(1, 4):\n",
    "    k = np.argmax([q[s, a] for a in A_names])\n",
    "    s = A[k](s)\n",
    "    path.append(s)\n",
    "\n",
    "path"
   ]
  },
  {
   "cell_type": "markdown",
   "id": "ec68d4fe",
   "metadata": {},
   "source": [
    "### $\\varepsilon$-Greedy SARSA"
   ]
  },
  {
   "cell_type": "code",
   "execution_count": 13,
   "id": "bff3e0d7",
   "metadata": {},
   "outputs": [],
   "source": [
    "eps = 0.1"
   ]
  },
  {
   "cell_type": "code",
   "execution_count": 14,
   "id": "7cbc4878",
   "metadata": {},
   "outputs": [],
   "source": [
    "for k in range(1,100000):\n",
    "    \n",
    "    s = random_state()  \n",
    "    a = np.random.choice(A_names)\n",
    "        \n",
    "    while s != (4,8) and s != (1, 10) and s !=(1, 4):        \n",
    "        (s, a, r, s_prime, a_prime) = greedy_sarsa(s, a, q)\n",
    "        u = np.random.random()\n",
    "        if u < eps/k:\n",
    "            a_prime = np.random.choice(A_names)\n",
    "                        \n",
    "        q[s, a] = q[s, a] + alpha * (r + q[s_prime, a_prime] - q[s, a])\n",
    "        (s, a) = (s_prime, a_prime)"
   ]
  },
  {
   "cell_type": "code",
   "execution_count": 15,
   "id": "9ccc522e",
   "metadata": {},
   "outputs": [
    {
     "data": {
      "text/plain": [
       "[((1, 1), 'dr'),\n",
       " ((1, 2), 'ru'),\n",
       " ((1, 3), 'r'),\n",
       " ((1, 4), 'u'),\n",
       " ((1, 5), 'l'),\n",
       " ((1, 6), 'l'),\n",
       " ((1, 7), 'ld'),\n",
       " ((1, 8), 'r'),\n",
       " ((1, 9), 'dr'),\n",
       " ((1, 10), 'u'),\n",
       " ((2, 1), 'dr'),\n",
       " ((2, 2), 'dr'),\n",
       " ((2, 3), 'r'),\n",
       " ((2, 4), 'u'),\n",
       " ((2, 5), 'l'),\n",
       " ((2, 6), 'ul'),\n",
       " ((2, 7), 'l'),\n",
       " ((2, 8), 'dr'),\n",
       " ((2, 9), 'dr'),\n",
       " ((2, 10), 'dr'),\n",
       " ((3, 1), 'dr'),\n",
       " ((3, 2), 'r'),\n",
       " ((3, 3), 'ru'),\n",
       " ((3, 4), 'u'),\n",
       " ((3, 5), 'ul'),\n",
       " ((3, 6), 'ul'),\n",
       " ((3, 7), 'dr'),\n",
       " ((3, 8), 'dr'),\n",
       " ((3, 9), 'dr'),\n",
       " ((3, 10), 'd'),\n",
       " ((4, 1), 'r'),\n",
       " ((4, 2), 'ru'),\n",
       " ((4, 3), 'r'),\n",
       " ((4, 4), 'ul'),\n",
       " ((4, 5), 'l'),\n",
       " ((4, 6), 'l'),\n",
       " ((4, 7), 'dr'),\n",
       " ((4, 8), 'u'),\n",
       " ((4, 9), 'dr'),\n",
       " ((4, 10), 'd'),\n",
       " ((5, 1), 'dr'),\n",
       " ((5, 2), 'dr'),\n",
       " ((5, 3), 'd'),\n",
       " ((5, 4), 'ld'),\n",
       " ((5, 5), 'ul'),\n",
       " ((5, 6), 'ul'),\n",
       " ((5, 7), 'dr'),\n",
       " ((5, 8), 'd'),\n",
       " ((5, 9), 'ld'),\n",
       " ((5, 10), 'ld'),\n",
       " ((6, 1), 'r'),\n",
       " ((6, 2), 'r'),\n",
       " ((6, 3), 'dr'),\n",
       " ((6, 4), 'dr'),\n",
       " ((6, 5), 'dr'),\n",
       " ((6, 6), 'dr'),\n",
       " ((6, 7), 'r'),\n",
       " ((6, 8), 'r'),\n",
       " ((6, 9), 'l'),\n",
       " ((6, 10), 'l'),\n",
       " ((7, 1), 'ru'),\n",
       " ((7, 2), 'r'),\n",
       " ((7, 3), 'dr'),\n",
       " ((7, 4), 'r'),\n",
       " ((7, 5), 'r'),\n",
       " ((7, 6), 'r'),\n",
       " ((7, 7), 'ru'),\n",
       " ((7, 8), 'u'),\n",
       " ((7, 9), 'ul'),\n",
       " ((7, 10), 'ul')]"
      ]
     },
     "execution_count": 15,
     "metadata": {},
     "output_type": "execute_result"
    }
   ],
   "source": [
    "optimal_actions = [ (s, A_names[np.argmax([q[s, a] for a in A_names])]) for s in S]\n",
    "optimal_actions"
   ]
  },
  {
   "cell_type": "markdown",
   "id": "a59cd8a9",
   "metadata": {},
   "source": [
    "#### Start at (7, 1) ((6, 0) in the slides)"
   ]
  },
  {
   "cell_type": "code",
   "execution_count": 16,
   "id": "a7b5729a",
   "metadata": {},
   "outputs": [
    {
     "data": {
      "text/plain": [
       "[(7, 1), (6, 2), (6, 3), (6, 4), (6, 5), (6, 6), (5, 7), (4, 8)]"
      ]
     },
     "execution_count": 16,
     "metadata": {},
     "output_type": "execute_result"
    }
   ],
   "source": [
    "path = [(7, 1)]\n",
    "s = (7, 1)\n",
    "while s != (4, 8) and s != (1, 10) and s !=(1, 4):\n",
    "    k = np.argmax([q[s, a] for a in A_names])\n",
    "    s = A[k](s)\n",
    "    path.append(s)\n",
    "\n",
    "path"
   ]
  },
  {
   "cell_type": "markdown",
   "id": "c5b63182",
   "metadata": {},
   "source": [
    "#### Start at (4, 1) ((3, 0) in the slides)"
   ]
  },
  {
   "cell_type": "code",
   "execution_count": 17,
   "id": "314b96ff",
   "metadata": {},
   "outputs": [
    {
     "data": {
      "text/plain": [
       "[(4, 1), (4, 2), (3, 3), (1, 4)]"
      ]
     },
     "execution_count": 17,
     "metadata": {},
     "output_type": "execute_result"
    }
   ],
   "source": [
    "path = [(4, 1)]\n",
    "s = (4, 1)\n",
    "while s != (4, 8) and s != (1, 10) and s !=(1, 4):\n",
    "    k = np.argmax([q[s, a] for a in A_names])\n",
    "    s = A[k](s)\n",
    "    path.append(s)\n",
    "\n",
    "path"
   ]
  },
  {
   "cell_type": "markdown",
   "id": "c7295b8d",
   "metadata": {},
   "source": [
    "#### Start at (1, 8) ((0, 7) in the slides)"
   ]
  },
  {
   "cell_type": "code",
   "execution_count": 18,
   "id": "e6e73ef0",
   "metadata": {},
   "outputs": [
    {
     "data": {
      "text/plain": [
       "[(1, 8), (1, 9), (2, 10), (3, 10), (4, 10), (5, 10), (5, 9), (4, 8)]"
      ]
     },
     "execution_count": 18,
     "metadata": {},
     "output_type": "execute_result"
    }
   ],
   "source": [
    "path = [(1, 8)]\n",
    "s = (1, 8)\n",
    "while s != (4, 8) and s != (1, 10) and s !=(1, 4):\n",
    "    k = np.argmax([q[s, a] for a in A_names])\n",
    "    s = A[k](s)\n",
    "    path.append(s)\n",
    "\n",
    "path"
   ]
  },
  {
   "cell_type": "markdown",
   "id": "49fcdcff",
   "metadata": {},
   "source": [
    "### Q-learning "
   ]
  },
  {
   "cell_type": "code",
   "execution_count": 19,
   "id": "c28aa53d",
   "metadata": {},
   "outputs": [],
   "source": [
    "for k in range(1,10000):\n",
    "    \n",
    "    s = random_state()    \n",
    "    \n",
    "    while s != (4,8) and s != (1, 10) and s !=(1, 4):\n",
    "       \n",
    "        a = A_names[np.argmax([ q[s,a] for a in A_names])]\n",
    "\n",
    "        u = np.random.random()\n",
    "        if u < eps/k:\n",
    "            a = np.random.choice(A_names)\n",
    "        \n",
    "        \n",
    "        s_prime = A[idx(a)](s)\n",
    "        \n",
    "        q[s, a] = q[s, a] + alpha * ((reward(s, a) + np.max([q[s_prime, a] for a in A_names]) - q[s, a]))\n",
    "\n",
    "        s = s_prime"
   ]
  },
  {
   "cell_type": "code",
   "execution_count": 20,
   "id": "455f32ba",
   "metadata": {},
   "outputs": [
    {
     "data": {
      "text/plain": [
       "[((1, 1), 'dr'),\n",
       " ((1, 2), 'ru'),\n",
       " ((1, 3), 'r'),\n",
       " ((1, 4), 'u'),\n",
       " ((1, 5), 'l'),\n",
       " ((1, 6), 'l'),\n",
       " ((1, 7), 'ld'),\n",
       " ((1, 8), 'r'),\n",
       " ((1, 9), 'dr'),\n",
       " ((1, 10), 'u'),\n",
       " ((2, 1), 'dr'),\n",
       " ((2, 2), 'dr'),\n",
       " ((2, 3), 'r'),\n",
       " ((2, 4), 'u'),\n",
       " ((2, 5), 'l'),\n",
       " ((2, 6), 'ul'),\n",
       " ((2, 7), 'l'),\n",
       " ((2, 8), 'dr'),\n",
       " ((2, 9), 'dr'),\n",
       " ((2, 10), 'dr'),\n",
       " ((3, 1), 'dr'),\n",
       " ((3, 2), 'r'),\n",
       " ((3, 3), 'ru'),\n",
       " ((3, 4), 'u'),\n",
       " ((3, 5), 'ul'),\n",
       " ((3, 6), 'ul'),\n",
       " ((3, 7), 'dr'),\n",
       " ((3, 8), 'dr'),\n",
       " ((3, 9), 'dr'),\n",
       " ((3, 10), 'd'),\n",
       " ((4, 1), 'r'),\n",
       " ((4, 2), 'ru'),\n",
       " ((4, 3), 'r'),\n",
       " ((4, 4), 'ul'),\n",
       " ((4, 5), 'l'),\n",
       " ((4, 6), 'l'),\n",
       " ((4, 7), 'dr'),\n",
       " ((4, 8), 'u'),\n",
       " ((4, 9), 'dr'),\n",
       " ((4, 10), 'd'),\n",
       " ((5, 1), 'dr'),\n",
       " ((5, 2), 'dr'),\n",
       " ((5, 3), 'd'),\n",
       " ((5, 4), 'ld'),\n",
       " ((5, 5), 'ul'),\n",
       " ((5, 6), 'ul'),\n",
       " ((5, 7), 'dr'),\n",
       " ((5, 8), 'd'),\n",
       " ((5, 9), 'ld'),\n",
       " ((5, 10), 'ld'),\n",
       " ((6, 1), 'r'),\n",
       " ((6, 2), 'r'),\n",
       " ((6, 3), 'dr'),\n",
       " ((6, 4), 'dr'),\n",
       " ((6, 5), 'dr'),\n",
       " ((6, 6), 'dr'),\n",
       " ((6, 7), 'r'),\n",
       " ((6, 8), 'r'),\n",
       " ((6, 9), 'l'),\n",
       " ((6, 10), 'l'),\n",
       " ((7, 1), 'ru'),\n",
       " ((7, 2), 'r'),\n",
       " ((7, 3), 'dr'),\n",
       " ((7, 4), 'r'),\n",
       " ((7, 5), 'r'),\n",
       " ((7, 6), 'r'),\n",
       " ((7, 7), 'ru'),\n",
       " ((7, 8), 'u'),\n",
       " ((7, 9), 'ul'),\n",
       " ((7, 10), 'ul')]"
      ]
     },
     "execution_count": 20,
     "metadata": {},
     "output_type": "execute_result"
    }
   ],
   "source": [
    "optimal_actions = [ (s, A_names[np.argmax([q[s, a] for a in A_names])]) for s in S]\n",
    "optimal_actions"
   ]
  },
  {
   "cell_type": "markdown",
   "id": "ba85e8d3",
   "metadata": {},
   "source": [
    "#### Start at (7, 1) ((6, 0) in the slides)"
   ]
  },
  {
   "cell_type": "code",
   "execution_count": 21,
   "id": "9aed8003",
   "metadata": {},
   "outputs": [
    {
     "data": {
      "text/plain": [
       "[(7, 1), (6, 2), (6, 3), (6, 4), (6, 5), (6, 6), (5, 7), (4, 8)]"
      ]
     },
     "execution_count": 21,
     "metadata": {},
     "output_type": "execute_result"
    }
   ],
   "source": [
    "path = [(7, 1)]\n",
    "s = (7, 1)\n",
    "while s != (4, 8) and s != (1, 10) and s !=(1, 4):\n",
    "    k = np.argmax([q[s, a] for a in A_names])\n",
    "    s = A[k](s)\n",
    "    path.append(s)\n",
    "\n",
    "path"
   ]
  },
  {
   "cell_type": "markdown",
   "id": "6973acbd",
   "metadata": {},
   "source": [
    "#### Start at (4, 1) ((3, 0) in the slides)"
   ]
  },
  {
   "cell_type": "code",
   "execution_count": 22,
   "id": "3d0d7621",
   "metadata": {},
   "outputs": [
    {
     "data": {
      "text/plain": [
       "[(4, 1), (4, 2), (3, 3), (1, 4)]"
      ]
     },
     "execution_count": 22,
     "metadata": {},
     "output_type": "execute_result"
    }
   ],
   "source": [
    "path = [(4, 1)]\n",
    "s = (4, 1)\n",
    "while s != (4, 8) and s != (1, 10) and s !=(1, 4):\n",
    "    k = np.argmax([q[s, a] for a in A_names])\n",
    "    s = A[k](s)\n",
    "    path.append(s)\n",
    "\n",
    "path"
   ]
  },
  {
   "cell_type": "markdown",
   "id": "268a5885",
   "metadata": {},
   "source": [
    "#### Start at (1, 8) ((0, 7) in the slides)"
   ]
  },
  {
   "cell_type": "code",
   "execution_count": 23,
   "id": "dd283bbe",
   "metadata": {},
   "outputs": [
    {
     "data": {
      "text/plain": [
       "[(1, 8), (1, 9), (2, 10), (3, 10), (4, 10), (5, 10), (5, 9), (4, 8)]"
      ]
     },
     "execution_count": 23,
     "metadata": {},
     "output_type": "execute_result"
    }
   ],
   "source": [
    "path = [(1, 8)]\n",
    "s = (1, 8)\n",
    "while s != (4, 8) and s != (1, 10) and s !=(1, 4):\n",
    "    k = np.argmax([q[s, a] for a in A_names])\n",
    "    s = A[k](s)\n",
    "    path.append(s)\n",
    "\n",
    "path"
   ]
  },
  {
   "cell_type": "code",
   "execution_count": null,
   "id": "19d2ffa5",
   "metadata": {},
   "outputs": [],
   "source": []
  }
 ],
 "metadata": {
  "kernelspec": {
   "display_name": "Python 3 (ipykernel)",
   "language": "python",
   "name": "python3"
  },
  "language_info": {
   "codemirror_mode": {
    "name": "ipython",
    "version": 3
   },
   "file_extension": ".py",
   "mimetype": "text/x-python",
   "name": "python",
   "nbconvert_exporter": "python",
   "pygments_lexer": "ipython3",
   "version": "3.9.12"
  },
  "latex_envs": {
   "LaTeX_envs_menu_present": true,
   "autoclose": false,
   "autocomplete": true,
   "bibliofile": "biblio.bib",
   "cite_by": "apalike",
   "current_citInitial": 1,
   "eqLabelWithNumbers": true,
   "eqNumInitial": 1,
   "hotkeys": {
    "equation": "Ctrl-E",
    "itemize": "Ctrl-I"
   },
   "labels_anchors": false,
   "latex_user_defs": false,
   "report_style_numbering": false,
   "user_envs_cfg": false
  },
  "toc": {
   "base_numbering": 1,
   "nav_menu": {},
   "number_sections": true,
   "sideBar": true,
   "skip_h1_title": false,
   "title_cell": "Table of Contents",
   "title_sidebar": "Contents",
   "toc_cell": false,
   "toc_position": {},
   "toc_section_display": true,
   "toc_window_display": false
  }
 },
 "nbformat": 4,
 "nbformat_minor": 5
}
